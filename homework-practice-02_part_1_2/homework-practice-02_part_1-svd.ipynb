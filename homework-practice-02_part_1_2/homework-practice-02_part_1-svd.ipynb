{
 "cells": [
  {
   "cell_type": "markdown",
   "id": "125cf8b8",
   "metadata": {},
   "source": [
    "# Сжатие картинок с помощью SVD разложения\n",
    "В этом задании нужно сделать сжатие изображения, сжатие с потерями. Для этого мы используем SVD разложение.\n",
    "\n",
    "Примерный порядок действий:\n",
    "1) Найти любую картинку,\n",
    "2) Прочитать её с помощью библиотеки PIL\n",
    "3) Преобразовать в numpy массив\n",
    "4) Применить SVD к матрице - обязательно прочитайте справку по этой функции `np.linalg.svd`\n",
    "\n",
    "**Примечание**: Цветная картинка представляет собой трёхканальное изображение RBG, поэтому напрямую SVD разложение применить не получится. Либо вы преобразуете изображение в одноканальное (градации серого), усредняя все три канала. Либо делаете SVD для всех трёх каналов в отдельности.\n",
    "\n",
    "5) Далее оставляете небольшое количество сингулярных значений - 1, 2, 10, 30, 100. И выводите результат в виде получившейся картинки - чем больше сингулярных чисел, тем ближе приближённая матрица к исходной.\n",
    "\n",
    "6) Сравните количество байт, необходимых для хранения исходной картинки и сжатой версии.\n",
    "\n",
    "Ниже представлены основные функции и библиотеки, которые вам понадобятся.\n",
    "\n",
    "Задание оформляете в виде блокнота jupyter. Особо понравившиеся картинки можно сохранить отдельно на диск, но мне удобнее чтобы они присутствовали в самом jupyter блокноте."
   ]
  },
  {
   "cell_type": "code",
   "execution_count": 51,
   "id": "2eb45574",
   "metadata": {},
   "outputs": [],
   "source": [
    "from PIL import Image\n",
    "import numpy as np\n",
    "from matplotlib import pyplot as plt\n",
    "\n",
    "img = Image.open('panda.jpg')\n",
    "w, h = img.size\n",
    "img = img.resize((w//4, h//4)) # можно не делать .resize(())\n",
    "\n",
    "# x = np.array(img, dtype=np.float32) # преобразование из PIL в numpy array\n",
    "# U, S, V = np.linalg.svd(X, full_matrices=False) # разложение SVD\n",
    "# # обратное преобразование из numpy array в PIL с сохранение изображения на диск\n",
    "# Image.fromarray(np.asarray(Y_r, dtype=np.uint8)).save(f'{r}.png')"
   ]
  }
 ],
 "metadata": {
  "kernelspec": {
   "display_name": "Python 3 (ipykernel)",
   "language": "python",
   "name": "python3"
  },
  "language_info": {
   "codemirror_mode": {
    "name": "ipython",
    "version": 3
   },
   "file_extension": ".py",
   "mimetype": "text/x-python",
   "name": "python",
   "nbconvert_exporter": "python",
   "pygments_lexer": "ipython3",
   "version": "3.10.11"
  }
 },
 "nbformat": 4,
 "nbformat_minor": 5
}
