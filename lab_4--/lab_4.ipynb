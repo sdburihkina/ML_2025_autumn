{
  "cells": [
    {
      "cell_type": "markdown",
      "metadata": {
        "id": "jmvVvsXxLCNx"
      },
      "source": [
        "**1. (0.2 балла)** Реализуйте функцию, возвращающую максимальный элемент в векторе x среди элементов, перед которыми стоит нулевой. Для x = np.array([6, 2, 0, 3, 0, 0, 5, 7, 0]) ответом является 5. Если нулевых элементов нет, функция должна возвращать None.\n",
        "\n"
      ]
    },
    {
      "cell_type": "code",
      "execution_count": 2,
      "metadata": {
        "id": "pOFgAd7jQ8K-"
      },
      "outputs": [],
      "source": [
        "import numpy as np\n",
        "\n"
      ]
    },
    {
      "cell_type": "code",
      "source": [
        "def max_element(arr):\n",
        "    zero_indices = np.where(arr[:-1] == 0)[0] + 1 #\n",
        "    return np.max(arr[zero_indices]) if len(zero_indices) > 0 else None\n",
        "\n",
        "# Проверка\n",
        "x = np.array([6, 2, 0, 3, 0, 0, 5, 7, 0])\n",
        "print(max_element(x))"
      ],
      "metadata": {
        "colab": {
          "base_uri": "https://localhost:8080/"
        },
        "id": "mfp3vpEPwnVw",
        "outputId": "20e266ae-20d5-4e6e-cfc5-43aa67c43598"
      },
      "execution_count": 3,
      "outputs": [
        {
          "output_type": "stream",
          "name": "stdout",
          "text": [
            "5\n"
          ]
        }
      ]
    },
    {
      "cell_type": "markdown",
      "metadata": {
        "id": "UVnWG30bRHqt"
      },
      "source": [
        "**2. (0.2 балла)** Реализуйте функцию, принимающую на вход матрицу и некоторое число и возвращающую ближайший к числу элемент матрицы. Например: для X = np.arange(0,10).reshape((2, 5)) и v = 3.6 ответом будет 4.\n"
      ]
    },
    {
      "cell_type": "code",
      "execution_count": 4,
      "metadata": {
        "colab": {
          "base_uri": "https://localhost:8080/"
        },
        "id": "W9SNS2KlRHG8",
        "outputId": "dbd59533-4672-4d35-9c44-9c002906d053"
      },
      "outputs": [
        {
          "output_type": "stream",
          "name": "stdout",
          "text": [
            "4\n"
          ]
        }
      ],
      "source": [
        "def nearest_value(X, v):\n",
        "   # X - v: поэлементно вычитает значение v из каждого элемента массива X\n",
        "    # np.abs(X - v): вычисляет абсолютные значения разностей (расстояния до v)\n",
        "    # np.argmin(...): находит индекс минимального значения в массиве разностей\n",
        "    return X.flat[np.argmin(np.abs(X - v))]\n",
        "\n",
        "# Проверка\n",
        "X = np.arange(0,10).reshape((2, 5))\n",
        "v = 3.6\n",
        "print(nearest_value(X, v))"
      ]
    },
    {
      "cell_type": "markdown",
      "metadata": {
        "id": "UTCbuxF4S5z_"
      },
      "source": [
        "**3. (0.2 балла)** Реализуйте функцию scale(X), которая принимает на вход матрицу и масштабирует каждый ее столбец (вычитает выборочное среднее и делит на стандартное отклонение). Убедитесь, что в функции не будет происходить деления на ноль. Протестируйте на случайной матрице (для её генерации можно использовать, например, функцию [numpy.random.randint](http://docs.scipy.org/doc/numpy/reference/generated/numpy.random.randint.html))."
      ]
    },
    {
      "cell_type": "code",
      "execution_count": 5,
      "metadata": {
        "colab": {
          "base_uri": "https://localhost:8080/"
        },
        "id": "WvM6YPA8T6yd",
        "outputId": "0f23f425-c670-4f48-8600-61dfb876a99d"
      },
      "outputs": [
        {
          "output_type": "stream",
          "name": "stdout",
          "text": [
            "Исходная матрица:\n",
            "[[3 4 3]\n",
            " [4 2 3]\n",
            " [2 2 3]]\n",
            "\n",
            "Масштабированная матрица:\n",
            "[[ 0.          1.41421356  0.        ]\n",
            " [ 1.22474487 -0.70710678  0.        ]\n",
            " [-1.22474487 -0.70710678  0.        ]]\n",
            "\n",
            "Среднее столбцов после масштабирования: [0.00000000e+00 1.48029737e-16 0.00000000e+00]\n",
            "Стандартное отклонение столбцов: [1. 1. 0.]\n"
          ]
        }
      ],
      "source": [
        "def scale(X):\n",
        "    mean = np.mean(X, axis=0)  # Вычисляю среднее значение по каждому столбцу (axis=0)\n",
        "    std = np.std(X, axis=0)  # Вычисляю стандартное отклонение по каждому столбцу\n",
        "    std[std == 0] = 1  # избегаем деления на ноль\n",
        "    return (X - mean) / std\n",
        "\n",
        "# Создаем случайную матрицу\n",
        "X = np.random.randint(2, 5, size=(3, 3))\n",
        "print(\"Исходная матрица:\")\n",
        "print(X)\n",
        "\n",
        "print(\"\\nМасштабированная матрица:\")\n",
        "print(scale(X))\n",
        "\n",
        "# Проверяем, что среднее столбцов ≈ 0, а std ≈ 1\n",
        "scaled = scale(X)\n",
        "print(\"\\nСреднее столбцов после масштабирования:\", np.mean(scaled, axis=0))\n",
        "print(\"Стандартное отклонение столбцов:\", np.std(scaled, axis=0))\n",
        "\n",
        "\n"
      ]
    },
    {
      "cell_type": "markdown",
      "metadata": {
        "id": "f8v0m7k7UeQd"
      },
      "source": [
        "**4. (0.2 балла)** Реализуйте функцию, которая для заданной матрицы находит:\n",
        " - определитель\n",
        " - след\n",
        " - наименьший и наибольший элементы\n",
        " - норму Фробениуса\n",
        " - собственные числа\n",
        " - обратную матрицу\n",
        "\n",
        "Для тестирования сгенерируйте матрицу с элементами из нормального распределения $\\mathcal{N}$(10,1)"
      ]
    },
    {
      "cell_type": "code",
      "execution_count": 6,
      "metadata": {
        "colab": {
          "base_uri": "https://localhost:8080/"
        },
        "id": "ItacUieKU7JM",
        "outputId": "a198c69e-9cd5-4964-a8b9-3075954de01d"
      },
      "outputs": [
        {
          "output_type": "stream",
          "name": "stdout",
          "text": [
            "Квадратная матрица X (3x3):\n",
            "[[3 2 2]\n",
            " [4 2 4]\n",
            " [2 3 3]]\n",
            "Определитель: -10.00\n",
            "След: 8\n",
            "Минимальный элемент: 2\n",
            "Максимальный элемент: 4\n",
            "Норма Фробениуса: 8.66\n",
            "Ранг: 3\n",
            "Собственные числа: [ 8.21699057  1.         -1.21699057]\n",
            "Обратная матрица:\n",
            "[[ 0.6  0.  -0.4]\n",
            " [ 0.4 -0.5  0.4]\n",
            " [-0.8  0.5  0.2]]\n"
          ]
        }
      ],
      "source": [
        "def get_stats(X):\n",
        "    stats = {}\n",
        "\n",
        "    # Определитель\n",
        "    stats['determinant'] = np.linalg.det(X)\n",
        "\n",
        "    # След (сумма диагональных элементов)\n",
        "    stats['trace'] = np.trace(X)\n",
        "\n",
        "    # Наименьший и наибольший элементы\n",
        "    stats['min_element'] = np.min(X)\n",
        "    stats['max_element'] = np.max(X)\n",
        "\n",
        "    # Норма Фробениуса\n",
        "    stats['frobenius_norm'] = np.linalg.norm(X, 'fro')\n",
        "\n",
        "    # Собственные числа\n",
        "    stats['eigenvalues'] = np.linalg.eigvals(X)\n",
        "\n",
        "    # Обратная матрица (если определитель не нулевой)\n",
        "    try:\n",
        "        stats['inverse'] = np.linalg.inv(X)\n",
        "    except np.linalg.LinAlgError:\n",
        "        stats['inverse'] = \"Не существует (матрица вырожденная)\"\n",
        "\n",
        "    # Ранг матрицы\n",
        "    stats['rank'] = np.linalg.matrix_rank(X)\n",
        "\n",
        "    return stats\n",
        "\n",
        "# Создаем квадратную матрицу 3x3\n",
        "X = np.random.randint(2, 5, size=(3, 3))\n",
        "print(\"Квадратная матрица X (3x3):\")\n",
        "print(X)\n",
        "\n",
        "stats = get_stats(X)\n",
        "\n",
        "\n",
        "print(f\"Определитель: {stats['determinant']:.2f}\")\n",
        "print(f\"След: {stats['trace']}\")\n",
        "print(f\"Минимальный элемент: {stats['min_element']}\")\n",
        "print(f\"Максимальный элемент: {stats['max_element']}\")\n",
        "print(f\"Норма Фробениуса: {stats['frobenius_norm']:.2f}\")\n",
        "print(f\"Ранг: {stats['rank']}\")\n",
        "print(f\"Собственные числа: {stats['eigenvalues']}\")\n",
        "print(f\"Обратная матрица:\")\n",
        "print(stats['inverse'])\n"
      ]
    },
    {
      "cell_type": "markdown",
      "metadata": {
        "id": "msOqkvNLXqQU"
      },
      "source": [
        "**5. (0.2 балла)** Повторите 100 раз следующий эксперимент: сгенерируйте две матрицы размера 10×10 из стандартного нормального распределения, перемножьте их (как матрицы) и найдите максимальный элемент. Какое среднее значение по экспериментам у максимальных элементов? 95-процентная квантиль?"
      ]
    },
    {
      "cell_type": "code",
      "execution_count": 7,
      "metadata": {
        "colab": {
          "base_uri": "https://localhost:8080/"
        },
        "id": "8Nw8P4ewXjT9",
        "outputId": "bfb48043-2668-48dd-c53c-47b22c34457e"
      },
      "outputs": [
        {
          "output_type": "stream",
          "name": "stdout",
          "text": [
            "Среднее: 8.0772\n",
            "95% квантиль: 11.9679\n"
          ]
        }
      ],
      "source": [
        "results = [] # Создаем пустой список для хранения результатов экспериментов\n",
        "\n",
        "for exp_num in range(100):# Проводим 100 экспериментов\n",
        "    A = np.random.randn(10, 10) # Генерируем случайную матрицу A размером 10x10\n",
        "    B = np.random.randn(10, 10)\n",
        "    C = A @ B # Вычисляем матричное произведение A и B\n",
        "    results.append(np.max(C)) # Находим максимальный элемент в результирующей матрице C и добавляем в список результатов\n",
        "\n",
        "mean_max = np.mean(results) # Вычисляем среднее значение\n",
        "quantile_95 = np.percentile(results, 95) # Вычисляем 95% квантиль распределения максимальных элементов\n",
        "\n",
        "print(f\"Среднее: {mean_max:.4f}\")\n",
        "print(f\"95% квантиль: {quantile_95:.4f}\")"
      ]
    },
    {
      "cell_type": "markdown",
      "metadata": {
        "id": "84PT9yfMXsQM"
      },
      "source": [
        "**6. (0.3 балла)** Какая из причин отмены рейса (`CancellationCode`) была самой частой? (расшифровки кодов можно найти в описании данных)"
      ]
    },
    {
      "cell_type": "code",
      "execution_count": 13,
      "metadata": {
        "id": "BQMUMr6fZt4z"
      },
      "outputs": [],
      "source": [
        "import pandas as pd\n",
        "%matplotlib inline"
      ]
    },
    {
      "cell_type": "code",
      "source": [
        "# Загрузка данных\n",
        "df = pd.read_csv('2008.csv')\n",
        "print(df)"
      ],
      "metadata": {
        "colab": {
          "base_uri": "https://localhost:8080/"
        },
        "id": "EKSTv6MZhx4Y",
        "outputId": "56798002-067b-4a56-c529-04cd19a143f7"
      },
      "execution_count": 15,
      "outputs": [
        {
          "output_type": "stream",
          "name": "stdout",
          "text": [
            "       Year  Month  DayofMonth  DayOfWeek  DepTime  CRSDepTime  ArrTime  \\\n",
            "0      2008      6          18          3   2111.0        2055   2308.0   \n",
            "1      2008      6           4          3   1426.0        1410   1730.0   \n",
            "2      2008      8           3          7   1143.0        1145   1501.0   \n",
            "3      2008      1          23          3   1141.0        1144   1323.0   \n",
            "4      2008      5           4          7    815.0         820   1243.0   \n",
            "...     ...    ...         ...        ...      ...         ...      ...   \n",
            "69995  2008      5          12          1   1829.0        1840   2137.0   \n",
            "69996  2008      5          11          7   1149.0        1125   1336.0   \n",
            "69997  2008      9          24          3   1012.0        1012   1132.0   \n",
            "69998  2008      2          18          1   1906.0        1900   2200.0   \n",
            "69999  2008     12           6          6    859.0         900    959.0   \n",
            "\n",
            "       CRSArrTime UniqueCarrier  FlightNum  ... TaxiIn  TaxiOut  Cancelled  \\\n",
            "0            2300            WN        242  ...    3.0      8.0          0   \n",
            "1            1728            XE       2380  ...    4.0     12.0          0   \n",
            "2            1520            WN       1769  ...    4.0      9.0          0   \n",
            "3            1335            OO       3802  ...    4.0     19.0          0   \n",
            "4            1300            WN        399  ...    4.0      8.0          0   \n",
            "...           ...           ...        ...  ...    ...      ...        ...   \n",
            "69995        2149            DL        794  ...   22.0     20.0          0   \n",
            "69996        1314            OO       6159  ...    4.0     13.0          0   \n",
            "69997        1132            YV       7058  ...    7.0     10.0          0   \n",
            "69998        2139            NW        641  ...   20.0     22.0          0   \n",
            "69999        1005            WN        510  ...    2.0     12.0          0   \n",
            "\n",
            "       CancellationCode  Diverted  CarrierDelay WeatherDelay NASDelay  \\\n",
            "0                   NaN         0           NaN          NaN      NaN   \n",
            "1                   NaN         0           NaN          NaN      NaN   \n",
            "2                   NaN         0           NaN          NaN      NaN   \n",
            "3                   NaN         0           NaN          NaN      NaN   \n",
            "4                   NaN         0           NaN          NaN      NaN   \n",
            "...                 ...       ...           ...          ...      ...   \n",
            "69995               NaN         0           NaN          NaN      NaN   \n",
            "69996               NaN         0           0.0          0.0      0.0   \n",
            "69997               NaN         0           NaN          NaN      NaN   \n",
            "69998               NaN         0           0.0          0.0     15.0   \n",
            "69999               NaN         0           NaN          NaN      NaN   \n",
            "\n",
            "       SecurityDelay  LateAircraftDelay  \n",
            "0                NaN                NaN  \n",
            "1                NaN                NaN  \n",
            "2                NaN                NaN  \n",
            "3                NaN                NaN  \n",
            "4                NaN                NaN  \n",
            "...              ...                ...  \n",
            "69995            NaN                NaN  \n",
            "69996            0.0               22.0  \n",
            "69997            NaN                NaN  \n",
            "69998            0.0                6.0  \n",
            "69999            NaN                NaN  \n",
            "\n",
            "[70000 rows x 29 columns]\n"
          ]
        }
      ]
    },
    {
      "cell_type": "code",
      "source": [
        "# Посмотреть все уникальные коды в данных\n",
        "print(\"Все коды отмен в данных:\", df['CancellationCode'].unique())\n",
        "\n",
        "# Или посмотреть с включением NaN\n",
        "print(\"Все значения:\", df['CancellationCode'].value_counts(dropna=False))"
      ],
      "metadata": {
        "colab": {
          "base_uri": "https://localhost:8080/"
        },
        "id": "pOe9jOg7iH1r",
        "outputId": "fa9d5277-df0e-41c8-cdf5-7e7fda72ed3d"
      },
      "execution_count": 16,
      "outputs": [
        {
          "output_type": "stream",
          "name": "stdout",
          "text": [
            "Все коды отмен в данных: [nan 'B' 'A' 'C']\n",
            "Все значения: CancellationCode\n",
            "NaN    68589\n",
            "A        563\n",
            "B        549\n",
            "C        299\n",
            "Name: count, dtype: int64\n"
          ]
        }
      ]
    },
    {
      "cell_type": "markdown",
      "source": [
        "Расшифровка:\n",
        "\n",
        "NaN (68,589) - рейсы, которые НЕ были отменены (нормальные рейсы)\n",
        "\n",
        "A (563) - отмены по вине авиакомпании (Carrier)\n",
        "\n",
        "B (549) - отмены из-за погоды (Weather)\n",
        "\n",
        "C (299) - отмены из-за проблем национальной авиасистемы (National Air System)\n",
        "\n",
        "Итого в данных:\n",
        "\n",
        "Всего записей: 68,589 + 563 + 549 + 299 = около 70,000 рейсов\n",
        "\n",
        "Отмененных рейсов: 563 + 549 + 299 = 1,411 рейсов\n",
        "\n",
        "Нормальных рейсов: 68,589 рейсов\n",
        "\n",
        "NaN означает \"Not a Number\" - в данном случае это отсутствие кода отмены, то есть рейс выполнен по расписанию.\n",
        "\n",
        "Так что в 2008 году около 2% рейсов были отменены, и самая частая причина - проблемы авиакомпаний (A)."
      ],
      "metadata": {
        "id": "dQbEfbleiVZb"
      }
    },
    {
      "cell_type": "markdown",
      "metadata": {
        "id": "VF2cGWnNd6fa"
      },
      "source": [
        "**7. (0.3 балла)** Найдите среднее, минимальное и максимальное расстояние, пройденное самолетом.\n"
      ]
    },
    {
      "cell_type": "code",
      "execution_count": 18,
      "metadata": {
        "colab": {
          "base_uri": "https://localhost:8080/"
        },
        "id": "QYIawbOad6Qa",
        "outputId": "f2f0802c-a8ce-4184-d23f-91dc1a3cca74"
      },
      "outputs": [
        {
          "output_type": "stream",
          "name": "stdout",
          "text": [
            "Статистика по расстоянию (в милях):\n",
            "Среднее расстояние: 724.5 миль\n",
            "Минимальное расстояние: 31.0 миль\n",
            "Максимальное расстояние: 4962.0 миль\n"
          ]
        }
      ],
      "source": [
        "# Анализ расстояния\n",
        "distance_stats = df['Distance'].describe() # Вычисляем основные описательные статистики для столбца 'Distance'\n",
        "\n",
        "print(\"Статистика по расстоянию (в милях):\")\n",
        "print(f\"Среднее расстояние: {distance_stats['mean']:.1f} миль\")\n",
        "print(f\"Минимальное расстояние: {distance_stats['min']:.1f} миль\")\n",
        "print(f\"Максимальное расстояние: {distance_stats['max']:.1f} миль\")"
      ]
    },
    {
      "cell_type": "markdown",
      "metadata": {
        "id": "Z9uLlXPyeuN6"
      },
      "source": [
        "**8. (0.3 балла)** Не выглядит ли подозрительным минимальное пройденное расстояние? В какие дни и на каких рейсах оно было? Какое расстояние было пройдено этими же рейсами в другие дни?\n"
      ]
    },
    {
      "cell_type": "code",
      "execution_count": 19,
      "metadata": {
        "colab": {
          "base_uri": "https://localhost:8080/"
        },
        "id": "jZpu5v9Ve27K",
        "outputId": "10d362ca-e2ac-4fe6-f240-d5a20b59944a"
      },
      "outputs": [
        {
          "output_type": "stream",
          "name": "stdout",
          "text": [
            "Минимальное расстояние: 31 миль\n",
            "\n",
            "Всего таких рейсов: 6\n",
            "       Month  DayofMonth UniqueCarrier  FlightNum Origin Dest  Distance\n",
            "1116      12          30            AS         65    WRG  PSG        31\n",
            "6958      12          26            AS         65    WRG  PSG        31\n",
            "17349      8          18            AS         64    PSG  WRG        31\n",
            "27534      3          11            AS         64    PSG  WRG        31\n",
            "46082      8           9            AS         65    WRG  PSG        31\n",
            "48112      2          28            AS         64    PSG  WRG        31\n"
          ]
        }
      ],
      "source": [
        "# Самое короткое расстояние\n",
        "min_dist = df['Distance'].min()\n",
        "print(f\"Минимальное расстояние: {min_dist} миль\")\n",
        "\n",
        "# Все рейсы с таким расстоянием\n",
        "short = df[df['Distance'] == min_dist]\n",
        "print(f\"\\nВсего таких рейсов: {len(short)}\")\n",
        "\n",
        "# Показываем ВСЕ\n",
        "print(short[['Month','DayofMonth','UniqueCarrier','FlightNum','Origin','Dest','Distance']])"
      ]
    },
    {
      "cell_type": "markdown",
      "source": [
        "Теперь проверим эти же маршруты в другие дни:"
      ],
      "metadata": {
        "id": "jd9vxm7_jCRa"
      }
    },
    {
      "cell_type": "code",
      "source": [
        "# Смотрим все рейсы на маршрутах WRG-PSG и PSG-WRG\n",
        "route1 = df[(df['Origin'] == 'WRG') & (df['Dest'] == 'PSG')]\n",
        "route2 = df[(df['Origin'] == 'PSG') & (df['Dest'] == 'WRG')]\n",
        "\n",
        "print(\"Все рейсы WRG -> PSG:\")\n",
        "print(route1[['Month','DayofMonth','Distance']].sort_values(['Month','DayofMonth']))\n",
        "\n",
        "print(\"\\nВсе рейсы PSG -> WRG:\")\n",
        "print(route2[['Month','DayofMonth','Distance']].sort_values(['Month','DayofMonth']))\n",
        "\n",
        "print(f\"\\nУникальные расстояния на WRG-PSG: {route1['Distance'].unique()}\")\n",
        "print(f\"Уникальные расстояния на PSG-WRG: {route2['Distance'].unique()}\")"
      ],
      "metadata": {
        "colab": {
          "base_uri": "https://localhost:8080/"
        },
        "id": "JnjW1gItjOLq",
        "outputId": "d318b5f9-b780-4609-d7cb-2a34457f9040"
      },
      "execution_count": 20,
      "outputs": [
        {
          "output_type": "stream",
          "name": "stdout",
          "text": [
            "Все рейсы WRG -> PSG:\n",
            "       Month  DayofMonth  Distance\n",
            "46082      8           9        31\n",
            "6958      12          26        31\n",
            "1116      12          30        31\n",
            "\n",
            "Все рейсы PSG -> WRG:\n",
            "       Month  DayofMonth  Distance\n",
            "48112      2          28        31\n",
            "27534      3          11        31\n",
            "17349      8          18        31\n",
            "\n",
            "Уникальные расстояния на WRG-PSG: [31]\n",
            "Уникальные расстояния на PSG-WRG: [31]\n"
          ]
        }
      ]
    },
    {
      "cell_type": "markdown",
      "metadata": {
        "id": "L4oA6MTcfnLS"
      },
      "source": [
        "**9. (0.3 балла)** Из какого аэропорта было произведено больше всего вылетов? В каком городе он находится?\n"
      ]
    },
    {
      "cell_type": "code",
      "execution_count": 21,
      "metadata": {
        "colab": {
          "base_uri": "https://localhost:8080/"
        },
        "id": "tivT3Rqbf6Z_",
        "outputId": "9fe69e51-548a-4042-e22f-b47e5062e333"
      },
      "outputs": [
        {
          "output_type": "stream",
          "name": "stdout",
          "text": [
            "Топ-5 аэропортов по вылетам:\n",
            "Origin\n",
            "ATL    4134\n",
            "ORD    3550\n",
            "DFW    2793\n",
            "DEN    2383\n",
            "LAX    2082\n",
            "Name: count, dtype: int64\n",
            "Самый загруженный: ATL\n",
            "Вылетов: 4134\n"
          ]
        }
      ],
      "source": [
        "# Считаем вылеты по аэропортам\n",
        "departures = df['Origin'].value_counts()\n",
        "\n",
        "print(\"Топ-5 аэропортов по вылетам:\")\n",
        "print(departures.head())\n",
        "\n",
        "# Самый загруженный аэропорт\n",
        "busiest = df['Origin'].value_counts().head(1)\n",
        "\n",
        "print(f\"Самый загруженный: {busiest.index[0]}\")\n",
        "print(f\"Вылетов: {busiest.values[0]}\")"
      ]
    },
    {
      "cell_type": "markdown",
      "source": [
        "ATL - это Аэропорт Атланты Хартсфилд-Джексон (Atlanta Hartsfield-Jackson International Airport) в Атланте, Джорджия.\n",
        "\n",
        "Это традиционно самый загруженный аэропорт в мире по количеству пассажиров и рейсов."
      ],
      "metadata": {
        "id": "e_0BedEDjg5k"
      }
    },
    {
      "cell_type": "markdown",
      "metadata": {
        "id": "c5jVrM75gjmi"
      },
      "source": [
        "**10. (0.3 балла)** Найдите для каждого аэропорта среднее время полета (`AirTime`) по всем вылетевшим из него рейсам. Какой аэропорт имеет наибольшее значение этого показателя?"
      ]
    },
    {
      "cell_type": "code",
      "execution_count": 22,
      "metadata": {
        "colab": {
          "base_uri": "https://localhost:8080/"
        },
        "id": "drE9j06shO86",
        "outputId": "d4764e77-0bf2-4612-ad01-7db09711f476"
      },
      "outputs": [
        {
          "output_type": "stream",
          "name": "stdout",
          "text": [
            "Среднее время полета для всех аэропортов:\n",
            "Origin\n",
            "SJU    205.200000\n",
            "BQN    193.954545\n",
            "PSE    191.875000\n",
            "STT    185.029412\n",
            "ANC    165.415094\n",
            "          ...    \n",
            "PSG     20.250000\n",
            "OXR     19.666667\n",
            "WRG     18.000000\n",
            "GST     13.000000\n",
            "DLG           NaN\n",
            "Name: AirTime, Length: 297, dtype: float64\n"
          ]
        }
      ],
      "source": [
        "# Среднее время полета по всем аэропортам вылета\n",
        "avg_airtime = df.groupby('Origin')['AirTime'].mean().sort_values(ascending=False)\n",
        "\n",
        "print(\"Среднее время полета для всех аэропортов:\")\n",
        "print(avg_airtime)"
      ]
    },
    {
      "cell_type": "code",
      "source": [
        "# Самый долгий средний полет\n",
        "longest = avg_airtime.idxmax()\n",
        "time = avg_airtime.max()\n",
        "\n",
        "print(f\"Самый долгий средний полет: {longest}\")\n",
        "print(f\"Среднее время: {time:.1f} минут\")"
      ],
      "metadata": {
        "colab": {
          "base_uri": "https://localhost:8080/"
        },
        "id": "JHCgNBb9jvbD",
        "outputId": "c7672bb6-b0db-4ea3-def1-1fbb4a2c28d2"
      },
      "execution_count": 23,
      "outputs": [
        {
          "output_type": "stream",
          "name": "stdout",
          "text": [
            "Самый долгий средний полет: SJU\n",
            "Среднее время: 205.2 минут\n"
          ]
        }
      ]
    },
    {
      "cell_type": "markdown",
      "source": [
        "**11. (0.5 балла)** Найдите аэропорт, у которого наибольшая доля задержанных (`DepDelay > 0`) рейсов. Исключите при этом из рассмотрения аэропорты, из которых было отправлено меньше 1000 рейсов (используйте функцию `filter` после `groupby`)."
      ],
      "metadata": {
        "id": "iIHfFMHACVjY"
      }
    },
    {
      "cell_type": "code",
      "source": [
        "# 1. Всего рейсов по всем аэропортам\n",
        "total_flights = df.groupby('Origin').size()\n",
        "# Группируем DataFrame по столбцу 'Origin' (аэропорт вылета)\n",
        "# size() подсчитывает количество строк (рейсов) для каждой группы\n",
        "print(\"Всего рейсов по всем аэропортам:\")\n",
        "print(total_flights)"
      ],
      "metadata": {
        "colab": {
          "base_uri": "https://localhost:8080/"
        },
        "id": "kCOnF6yjDHeZ",
        "outputId": "dded0c99-97ed-4640-f972-75cb8e3495a7"
      },
      "execution_count": 24,
      "outputs": [
        {
          "output_type": "stream",
          "name": "stdout",
          "text": [
            "Всего рейсов по всем аэропортам:\n",
            "Origin\n",
            "ABE     45\n",
            "ABI     30\n",
            "ABQ    408\n",
            "ABY      7\n",
            "ACK      5\n",
            "      ... \n",
            "WRG      8\n",
            "XNA    132\n",
            "YAK     11\n",
            "YKM      3\n",
            "YUM     34\n",
            "Length: 297, dtype: int64\n"
          ]
        }
      ]
    },
    {
      "cell_type": "code",
      "source": [
        "# 2. Задержанные рейсы по всем аэропортам\n",
        "delayed_flights = df[df['DepDelay'] > 0].groupby('Origin').size()\n",
        "print(\"Задержанные рейсы по всем аэропортам:\")\n",
        "print(delayed_flights)"
      ],
      "metadata": {
        "colab": {
          "base_uri": "https://localhost:8080/"
        },
        "id": "3fOI3TuwkMy0",
        "outputId": "79eca96e-2179-4941-8aa0-19d144273e40"
      },
      "execution_count": 35,
      "outputs": [
        {
          "output_type": "stream",
          "name": "stdout",
          "text": [
            "Задержанные рейсы по всем аэропортам:\n",
            "Origin\n",
            "ABE      9\n",
            "ABI      7\n",
            "ABQ    164\n",
            "ABY      4\n",
            "ACK      5\n",
            "      ... \n",
            "VPS     25\n",
            "WRG      2\n",
            "XNA     47\n",
            "YAK      3\n",
            "YUM      4\n",
            "Length: 277, dtype: int64\n"
          ]
        }
      ]
    },
    {
      "cell_type": "code",
      "source": [
        "# 3. Доля задержек по всем аэропортам\n",
        "delay_ratio = (delayed_flights / total_flights).dropna()\n",
        "print(\"Доля задержек по всем аэропортам:\")\n",
        "print(delay_ratio.sort_values(ascending=False))"
      ],
      "metadata": {
        "colab": {
          "base_uri": "https://localhost:8080/"
        },
        "id": "osD44ArnkQDD",
        "outputId": "c3a71c7e-e915-4a97-b9bc-4d0e8fd3a75a"
      },
      "execution_count": 26,
      "outputs": [
        {
          "output_type": "stream",
          "name": "stdout",
          "text": [
            "Доля задержек по всем аэропортам:\n",
            "Origin\n",
            "RHI    1.000000\n",
            "ADK    1.000000\n",
            "ACK    1.000000\n",
            "GST    1.000000\n",
            "AKN    1.000000\n",
            "         ...   \n",
            "DBQ    0.117647\n",
            "FCA    0.114286\n",
            "LWS    0.111111\n",
            "IPL    0.100000\n",
            "BRO    0.090909\n",
            "Length: 277, dtype: float64\n"
          ]
        }
      ]
    },
    {
      "cell_type": "code",
      "source": [
        "# 4. Группируем по аэропортам и фильтруем (>1000 рейсов)\n",
        "grouped = df.groupby('Origin')\n",
        "filtered_airports = grouped.filter(lambda x: len(x) > 1000)\n",
        "\n",
        "print(f\"Аэропортов с >1000 рейсов: {filtered_airports['Origin'].nunique()}\")"
      ],
      "metadata": {
        "colab": {
          "base_uri": "https://localhost:8080/"
        },
        "id": "DPvbRBSxkT0j",
        "outputId": "7e60c847-4e85-4a80-c0ae-5ec48887a9a4"
      },
      "execution_count": 31,
      "outputs": [
        {
          "output_type": "stream",
          "name": "stdout",
          "text": [
            "Аэропортов с >1000 рейсов: 21\n"
          ]
        }
      ]
    },
    {
      "cell_type": "code",
      "source": [
        "# 5. Доля задержек для отфильтрованных аэропортов\n",
        "delayed_ratio = (filtered_airports[filtered_airports['DepDelay'] > 0]\n",
        "                .groupby('Origin').size() /\n",
        "                filtered_airports.groupby('Origin').size())\n",
        "\n",
        "print(\"Доля задержек по аэропортам (>1000 рейсов):\")\n",
        "print(delayed_ratio.sort_values(ascending=False))"
      ],
      "metadata": {
        "colab": {
          "base_uri": "https://localhost:8080/"
        },
        "id": "PsVq0IajkWjq",
        "outputId": "bb990d35-3e38-48d5-8bae-9d511059d1bd"
      },
      "execution_count": 36,
      "outputs": [
        {
          "output_type": "stream",
          "name": "stdout",
          "text": [
            "Доля задержек по аэропортам (>1000 рейсов):\n",
            "Origin\n",
            "EWR    0.511159\n",
            "IAH    0.468524\n",
            "ORD    0.464507\n",
            "DFW    0.459363\n",
            "BWI    0.452519\n",
            "DEN    0.446076\n",
            "SEA    0.438830\n",
            "LAS    0.434467\n",
            "PHX    0.422452\n",
            "ATL    0.420658\n",
            "PHL    0.420643\n",
            "LAX    0.412584\n",
            "MCO    0.401345\n",
            "CLT    0.398400\n",
            "SFO    0.396307\n",
            "JFK    0.369692\n",
            "MSP    0.366029\n",
            "DTW    0.353416\n",
            "BOS    0.323580\n",
            "SLC    0.320000\n",
            "LGA    0.306245\n",
            "dtype: float64\n"
          ]
        }
      ]
    },
    {
      "cell_type": "code",
      "source": [
        "# 6. Самый проблемный аэропорт\n",
        "worst_airport = delayed_ratio.idxmax()\n",
        "worst_ratio = delayed_ratio.max()\n",
        "print(f\"Самый проблемный аэропорт: {worst_airport}\")\n",
        "print(f\"Доля задержанных рейсов: {worst_ratio:.1%}\")"
      ],
      "metadata": {
        "colab": {
          "base_uri": "https://localhost:8080/"
        },
        "id": "WlFzUc7Fkazr",
        "outputId": "004c96ef-b3f6-48e8-f1a1-c6b25c44b230"
      },
      "execution_count": 60,
      "outputs": [
        {
          "output_type": "stream",
          "name": "stdout",
          "text": [
            "Самый проблемный аэропорт: EWR\n",
            "Доля задержанных рейсов: 51.1%\n"
          ]
        }
      ]
    },
    {
      "cell_type": "markdown",
      "metadata": {
        "id": "T20lOKF4iJz6"
      },
      "source": [
        "## Линейная регрессия\n",
        "\n",
        "В этой части мы разберемся с линейной регрессией, способами её обучения и измерением качества ее прогнозов.\n",
        "\n",
        "Будем рассматривать датасет из предыдущей части задания для предсказания времени задержки отправления рейса в минутах (DepDelay). Отметим, что под задержкой подразумевается не только опоздание рейса относительно планируемого времени вылета, но и отправление до планируемого времени.\n",
        "\n",
        "### Подготовка данных\n",
        "\n",
        "**12. (0.5 балла)** Считайте выборку из файла при помощи функции pd.read_csv и ответьте на следующие вопросы:\n",
        "   - Имеются ли в данных пропущенные значения?\n",
        "   - Сколько всего пропущенных элементов в таблице \"объект-признак\"?\n",
        "   - Сколько объектов имеют хотя бы один пропуск?\n",
        "   - Сколько признаков имеют хотя бы одно пропущенное значение?"
      ]
    },
    {
      "cell_type": "code",
      "source": [
        "import pandas as pd"
      ],
      "metadata": {
        "id": "6Ri9Fo6LLMgH"
      },
      "execution_count": 66,
      "outputs": []
    },
    {
      "cell_type": "code",
      "source": [
        "# Загрузка данных\n",
        "df = pd.read_csv('2008.csv')\n",
        "\n",
        "has_missing = df.isnull().any().any()\n",
        "print(f\"Ответ: {'Да' if has_missing else 'Нет'}\")"
      ],
      "metadata": {
        "colab": {
          "base_uri": "https://localhost:8080/"
        },
        "id": "v9VljSkcLXCP",
        "outputId": "8ee976a4-8eac-4102-ad08-a1fe43305177"
      },
      "execution_count": 67,
      "outputs": [
        {
          "output_type": "stream",
          "name": "stdout",
          "text": [
            "Ответ: Да\n"
          ]
        }
      ]
    },
    {
      "cell_type": "markdown",
      "source": [
        "б) Сколько всего пропущенных элементов в таблице 'объект-признак'?"
      ],
      "metadata": {
        "id": "Bb1ACh92uTPo"
      }
    },
    {
      "cell_type": "code",
      "source": [
        "total_missing = df.isnull().sum().sum()\n",
        "print(f\"Ответ: {total_missing} пропущенных элементов\")"
      ],
      "metadata": {
        "colab": {
          "base_uri": "https://localhost:8080/"
        },
        "id": "COZxi-iFLh0X",
        "outputId": "ddbcf45e-e077-4cec-e8cd-101c2009a02a"
      },
      "execution_count": 68,
      "outputs": [
        {
          "output_type": "stream",
          "name": "stdout",
          "text": [
            "Ответ: 355215 пропущенных элементов\n"
          ]
        }
      ]
    },
    {
      "cell_type": "markdown",
      "source": [
        "в) Сколько объектов имеют хотя бы один пропуск?"
      ],
      "metadata": {
        "id": "06S9LzZruWqj"
      }
    },
    {
      "cell_type": "code",
      "source": [
        "objects_with_missing = df.isnull().any(axis=1).sum()\n",
        "print(f\"Ответ: {objects_with_missing} объектов\")"
      ],
      "metadata": {
        "colab": {
          "base_uri": "https://localhost:8080/"
        },
        "id": "YUYGO2-0Lldu",
        "outputId": "eed21707-157a-4342-f402-27431f0a6e5d"
      },
      "execution_count": 69,
      "outputs": [
        {
          "output_type": "stream",
          "name": "stdout",
          "text": [
            "Ответ: 70000 объектов\n"
          ]
        }
      ]
    },
    {
      "cell_type": "markdown",
      "source": [
        "г) Сколько признаков имеют хотя бы одно пропущенное значение?"
      ],
      "metadata": {
        "id": "zka8CuqCuaqN"
      }
    },
    {
      "cell_type": "code",
      "source": [
        "features_with_missing = df.isnull().any(axis=0).sum()\n",
        "print(f\"Ответ: {features_with_missing} признаков\")"
      ],
      "metadata": {
        "colab": {
          "base_uri": "https://localhost:8080/"
        },
        "id": "Kx-9UmjkLpRM",
        "outputId": "14d137a1-c459-4ce7-dd93-91b3c4ce8c36"
      },
      "execution_count": 70,
      "outputs": [
        {
          "output_type": "stream",
          "name": "stdout",
          "text": [
            "Ответ: 16 признаков\n"
          ]
        }
      ]
    },
    {
      "cell_type": "markdown",
      "metadata": {
        "id": "z4Lg-v3ik64p"
      },
      "source": [
        "Как вы понимаете, также не имеет смысла рассматривать при решении поставленной задачи объекты с пропущенным значением целевой переменной. В связи с этим ответьте на следующие вопросы и выполните соответствующие действия:\n",
        "- Имеются ли пропущенные значения в целевой переменной?\n",
        "- Проанализируйте объекты с пропущенными значениями целевой переменной. Чем вызвано это явление? Что их объединяет? Можно ли в связи с этим, на ваш взгляд, исключить какие-то признаки из рассмотрения? Обоснуйте свою точку зрения.\n",
        "\n",
        "Исключите из выборки объекты **с пропущенным значением целевой переменной и со значением целевой переменной, равным 0**, а также при необходимости исключите признаки в соответствии с вашим ответом на последний вопрос из списка и выделите целевую переменную в отдельный вектор, исключив её из матрицы \"объект-признак\"."
      ]
    },
    {
      "cell_type": "code",
      "source": [
        "target_missing = df['DepDelay'].isnull().sum()\n",
        "print(f\"Пропусков в DepDelay: {target_missing}\")"
      ],
      "metadata": {
        "colab": {
          "base_uri": "https://localhost:8080/"
        },
        "id": "iFazaFCvLtp-",
        "outputId": "d29970fe-3d12-49d7-f2f5-44e650e165cd"
      },
      "execution_count": 71,
      "outputs": [
        {
          "output_type": "stream",
          "name": "stdout",
          "text": [
            "Пропусков в DepDelay: 1399\n"
          ]
        }
      ]
    },
    {
      "cell_type": "markdown",
      "source": [
        "б) Проанализируйте объекты с пропущенными значениями целевой переменной. Чем вызвано это явление? Что их объединяет? Можно ли в связи с этим, на ваш взгляд, исключить какие-то признаки из рассмотрения? Обоснуйте свою точку зрения."
      ],
      "metadata": {
        "id": "tidNzupmufom"
      }
    },
    {
      "cell_type": "code",
      "source": [
        "# Анализ ВСЕХ объектов с пропущенной целевой переменной\n",
        "missing_target = df[df['DepDelay'].isnull()]\n",
        "print(f\"Всего объектов с пропущенным DepDelay: {len(missing_target)}\")\n",
        "print(\"\\nПервые 10 объектов:\")\n",
        "print(missing_target.head(10))"
      ],
      "metadata": {
        "colab": {
          "base_uri": "https://localhost:8080/"
        },
        "id": "3UQM2KmlLy4H",
        "outputId": "47d959b0-4478-4e1b-8470-64ac1edc8850"
      },
      "execution_count": 72,
      "outputs": [
        {
          "output_type": "stream",
          "name": "stdout",
          "text": [
            "Всего объектов с пропущенным DepDelay: 1399\n",
            "\n",
            "Первые 10 объектов:\n",
            "     Year  Month  DayofMonth  DayOfWeek  DepTime  CRSDepTime  ArrTime  \\\n",
            "11   2008      3           6          4      NaN        1605      NaN   \n",
            "78   2008      1          19          6      NaN         750      NaN   \n",
            "103  2008      7          24          4      NaN        1230      NaN   \n",
            "112  2008      2           4          1      NaN         620      NaN   \n",
            "128  2008      1          21          1      NaN        1838      NaN   \n",
            "194  2008      1          28          1      NaN        1640      NaN   \n",
            "204  2008      6          13          5      NaN        1229      NaN   \n",
            "236  2008      7          19          6      NaN         544      NaN   \n",
            "257  2008      4          19          6      NaN        1345      NaN   \n",
            "267  2008      9          23          2      NaN        1400      NaN   \n",
            "\n",
            "     CRSArrTime UniqueCarrier  FlightNum  ... TaxiIn  TaxiOut  Cancelled  \\\n",
            "11         1940            AA        484  ...    NaN      NaN          1   \n",
            "78          930            EV       4772  ...    NaN      NaN          1   \n",
            "103        1355            FL        816  ...    NaN      NaN          1   \n",
            "112         758            NW       1281  ...    NaN      NaN          1   \n",
            "128        2005            UA       1251  ...    NaN      NaN          1   \n",
            "194        1719            UA        753  ...    NaN      NaN          1   \n",
            "204        1421            OH       5765  ...    NaN      NaN          1   \n",
            "236         917            OO       6151  ...    NaN      NaN          1   \n",
            "257        1435            AA       1853  ...    NaN      NaN          1   \n",
            "267        1515            WN       2049  ...    NaN      NaN          1   \n",
            "\n",
            "     CancellationCode  Diverted  CarrierDelay WeatherDelay NASDelay  \\\n",
            "11                  B         0           NaN          NaN      NaN   \n",
            "78                  B         0           NaN          NaN      NaN   \n",
            "103                 A         0           NaN          NaN      NaN   \n",
            "112                 B         0           NaN          NaN      NaN   \n",
            "128                 A         0           NaN          NaN      NaN   \n",
            "194                 C         0           NaN          NaN      NaN   \n",
            "204                 A         0           NaN          NaN      NaN   \n",
            "236                 A         0           NaN          NaN      NaN   \n",
            "257                 A         0           NaN          NaN      NaN   \n",
            "267                 A         0           NaN          NaN      NaN   \n",
            "\n",
            "     SecurityDelay  LateAircraftDelay  \n",
            "11             NaN                NaN  \n",
            "78             NaN                NaN  \n",
            "103            NaN                NaN  \n",
            "112            NaN                NaN  \n",
            "128            NaN                NaN  \n",
            "194            NaN                NaN  \n",
            "204            NaN                NaN  \n",
            "236            NaN                NaN  \n",
            "257            NaN                NaN  \n",
            "267            NaN                NaN  \n",
            "\n",
            "[10 rows x 29 columns]\n"
          ]
        }
      ]
    },
    {
      "cell_type": "code",
      "source": [
        "# Анализ ВСЕХ столбцов для этих объектов\n",
        "print(\"\\nАнализ всех признаков для объектов с пропущенным DepDelay:\")\n",
        "for col in missing_target.columns:\n",
        "    unique_vals = missing_target[col].unique()\n",
        "    print(f\"{col}: {len(unique_vals)} уникальных значений\")\n",
        "    if len(unique_vals) <= 10:\n",
        "        print(f\"   Значения: {unique_vals}\")"
      ],
      "metadata": {
        "colab": {
          "base_uri": "https://localhost:8080/"
        },
        "id": "J2PsDkqIL38B",
        "outputId": "038153ac-e70e-4f49-e043-688ba41eb834"
      },
      "execution_count": 73,
      "outputs": [
        {
          "output_type": "stream",
          "name": "stdout",
          "text": [
            "\n",
            "Анализ всех признаков для объектов с пропущенным DepDelay:\n",
            "Year: 1 уникальных значений\n",
            "   Значения: [2008]\n",
            "Month: 12 уникальных значений\n",
            "DayofMonth: 31 уникальных значений\n",
            "DayOfWeek: 7 уникальных значений\n",
            "   Значения: [4 6 1 5 2 7 3]\n",
            "DepTime: 1 уникальных значений\n",
            "   Значения: [nan]\n",
            "CRSDepTime: 446 уникальных значений\n",
            "ArrTime: 1 уникальных значений\n",
            "   Значения: [nan]\n",
            "CRSArrTime: 645 уникальных значений\n",
            "UniqueCarrier: 19 уникальных значений\n",
            "FlightNum: 1220 уникальных значений\n",
            "TailNum: 469 уникальных значений\n",
            "ActualElapsedTime: 1 уникальных значений\n",
            "   Значения: [nan]\n",
            "CRSElapsedTime: 227 уникальных значений\n",
            "AirTime: 1 уникальных значений\n",
            "   Значения: [nan]\n",
            "ArrDelay: 1 уникальных значений\n",
            "   Значения: [nan]\n",
            "DepDelay: 1 уникальных значений\n",
            "   Значения: [nan]\n",
            "Origin: 192 уникальных значений\n",
            "Dest: 182 уникальных значений\n",
            "Distance: 557 уникальных значений\n",
            "TaxiIn: 1 уникальных значений\n",
            "   Значения: [nan]\n",
            "TaxiOut: 1 уникальных значений\n",
            "   Значения: [nan]\n",
            "Cancelled: 1 уникальных значений\n",
            "   Значения: [1]\n",
            "CancellationCode: 3 уникальных значений\n",
            "   Значения: ['B' 'A' 'C']\n",
            "Diverted: 1 уникальных значений\n",
            "   Значения: [0]\n",
            "CarrierDelay: 1 уникальных значений\n",
            "   Значения: [nan]\n",
            "WeatherDelay: 1 уникальных значений\n",
            "   Значения: [nan]\n",
            "NASDelay: 1 уникальных значений\n",
            "   Значения: [nan]\n",
            "SecurityDelay: 1 уникальных значений\n",
            "   Значения: [nan]\n",
            "LateAircraftDelay: 1 уникальных значений\n",
            "   Значения: [nan]\n"
          ]
        }
      ]
    },
    {
      "cell_type": "markdown",
      "source": [
        "\n",
        "Что объединяет ВСЕ эти объекты?"
      ],
      "metadata": {
        "id": "T-P2PFLfuniE"
      }
    },
    {
      "cell_type": "code",
      "source": [
        "print(\"\\nОбщие характеристики ВСЕХ объектов с пропущенным DepDelay:\")\n",
        "print(f\"Отменено рейсов (Cancelled=1): {(missing_target['Cancelled'] == 1).sum()}\")\n",
        "print(f\"Перенаправлено рейсов (Diverted=1): {(missing_target['Diverted'] == 1).sum()}\")\n",
        "print(f\"Нет времени вылета (DepTime is NaN): {missing_target['DepTime'].isnull().sum()}\")\n",
        "print(f\"Нет времени прибытия (ArrTime is NaN): {missing_target['ArrTime'].isnull().sum()}\")"
      ],
      "metadata": {
        "colab": {
          "base_uri": "https://localhost:8080/"
        },
        "id": "KwVuIWM_L7d3",
        "outputId": "817d607e-1ade-47b9-d18a-0efa4545d161"
      },
      "execution_count": 74,
      "outputs": [
        {
          "output_type": "stream",
          "name": "stdout",
          "text": [
            "\n",
            "Общие характеристики ВСЕХ объектов с пропущенным DepDelay:\n",
            "Отменено рейсов (Cancelled=1): 1399\n",
            "Перенаправлено рейсов (Diverted=1): 0\n",
            "Нет времени вылета (DepTime is NaN): 1399\n",
            "Нет времени прибытия (ArrTime is NaN): 1399\n"
          ]
        }
      ]
    },
    {
      "cell_type": "code",
      "source": [
        "# Проверяем ВСЕ объекты на наличие других пропусков\n",
        "print(\"\\nДругие пропуски в этих объектах:\")\n",
        "other_missing = missing_target.isnull().sum()\n",
        "print(other_missing[other_missing > 0])"
      ],
      "metadata": {
        "colab": {
          "base_uri": "https://localhost:8080/"
        },
        "id": "UPKwNH4jL-dH",
        "outputId": "5734fe7c-2137-4693-9ef7-0a0af428f3c6"
      },
      "execution_count": 75,
      "outputs": [
        {
          "output_type": "stream",
          "name": "stdout",
          "text": [
            "\n",
            "Другие пропуски в этих объектах:\n",
            "DepTime              1399\n",
            "ArrTime              1399\n",
            "TailNum               820\n",
            "ActualElapsedTime    1399\n",
            "CRSElapsedTime          4\n",
            "AirTime              1399\n",
            "ArrDelay             1399\n",
            "DepDelay             1399\n",
            "TaxiIn               1399\n",
            "TaxiOut              1399\n",
            "CarrierDelay         1399\n",
            "WeatherDelay         1399\n",
            "NASDelay             1399\n",
            "SecurityDelay        1399\n",
            "LateAircraftDelay    1399\n",
            "dtype: int64\n"
          ]
        }
      ]
    },
    {
      "cell_type": "markdown",
      "source": [
        "Чем вызвано это явление?\n",
        "\n",
        "Пропуски в DepDelay вызваны тем, что рейсы не состоялись (были отменены или перенаправлены), поэтому фактическое время вылета не зафиксировано.\n",
        "\n",
        "Что их объединяет? Все объекты с пропущенным DepDelay:\n",
        "\n",
        "Имеют Cancelled=1 или Diverted=1\n",
        "\n",
        "Не имеют DepTime (факческое время вылета)\n",
        "\n",
        "Не имеют данных о причинах задержек\n",
        "\n",
        "Какие признаки можно исключить? Можно исключить:\n",
        "Cancelled и Diverted - они напрямую указывают на причину пропусков\n",
        "\n",
        "CancellationCode - связан с отмененными рейсами\n",
        "\n",
        "Причины задержек (CarrierDelay, WeatherDelay и др.) - для отмененных рейсов они не определены\n",
        "\n",
        "Обоснование: Эти признаки являются следствием пропусков в целевой переменной, а не причиной, и их использование может привести к утечке данных."
      ],
      "metadata": {
        "id": "Sfj50bqZu3dr"
      }
    },
    {
      "cell_type": "markdown",
      "metadata": {
        "id": "TBL50dXRlmM6"
      },
      "source": [
        "**13. (0.5 балла)** Обратите внимание, что признаки DepTime, CRSDepTime, ArrTime, CRSArrTime приведены в формате hhmm, в связи с чем будет не вполне корректно рассматривать их как вещественные.\n",
        "\n",
        "Преобразуйте каждый признак FeatureName из указанных в пару новых признаков FeatureName\\_Hour, FeatureName\\_Minute, разделив каждое из значений на часы и минуты. Не забудьте при этом исключить исходный признак из выборки. В случае, если значение признака отсутствует, значения двух новых признаков, его заменяющих, также должны отсутствовать.\n",
        "\n",
        "Например, признак DepTime необходимо заменить на пару признаков DepTime_Hour, DepTime_Minute. При этом, например, значение 155 исходного признака будет преобразовано в значения 1 и 55 признаков DepTime_Hour, DepTime_Minute соответственно."
      ]
    },
    {
      "cell_type": "code",
      "source": [
        "# Очищаем данные\n",
        "df_clean = df[df['DepDelay'].notna() & (df['DepDelay'] != 0)].copy()\n",
        "\n",
        "# Выделяем целевую переменную\n",
        "y = df_clean['DepDelay']\n",
        "X = df_clean.drop('DepDelay', axis=1)\n",
        "\n",
        "print(f\"Тип X: {type(X)}\")\n",
        "print(f\"Форма X: {X.shape}\")"
      ],
      "metadata": {
        "colab": {
          "base_uri": "https://localhost:8080/"
        },
        "id": "6QYDLgrfMMIW",
        "outputId": "066a82b2-e55a-4ca7-be4b-2460f0dbf133"
      },
      "execution_count": 76,
      "outputs": [
        {
          "output_type": "stream",
          "name": "stdout",
          "text": [
            "Тип X: <class 'pandas.core.frame.DataFrame'>\n",
            "Форма X: (63404, 28)\n"
          ]
        }
      ]
    },
    {
      "cell_type": "code",
      "source": [
        "# Список временных признаков для преобразования\n",
        "time_features = ['DepTime', 'CRSDepTime', 'ArrTime', 'CRSArrTime']\n",
        "\n",
        "# Преобразуем каждый временной признак\n",
        "for feature in time_features:\n",
        "    # Создаем новые признаки для часов и минут\n",
        "    X[f'{feature}_Hour'] = X[feature] // 100\n",
        "    X[f'{feature}_Minute'] = X[feature] % 100\n",
        "\n",
        "    # Устанавливаем NaN для пропущенных значений\n",
        "    X.loc[X[feature].isnull(), [f'{feature}_Hour', f'{feature}_Minute']] = None\n",
        "\n",
        "    # Удаляем исходный признак\n",
        "    X = X.drop(feature, axis=1)\n",
        "\n",
        "print(f\"Новая форма X: {X.shape}\")"
      ],
      "metadata": {
        "colab": {
          "base_uri": "https://localhost:8080/"
        },
        "id": "Lth1jYg6MRBX",
        "outputId": "977c6160-d25a-429a-ed5c-61519c3f8494"
      },
      "execution_count": 77,
      "outputs": [
        {
          "output_type": "stream",
          "name": "stdout",
          "text": [
            "Новая форма X: (63404, 32)\n"
          ]
        }
      ]
    },
    {
      "cell_type": "code",
      "source": [
        "# Проверяем результат\n",
        "print(\"Пример преобразованных данных:\")\n",
        "time_cols = [col for col in X.columns if 'Hour' in col or 'Minute' in col]\n",
        "print(X[time_cols])"
      ],
      "metadata": {
        "colab": {
          "base_uri": "https://localhost:8080/"
        },
        "id": "vAazGHgZMUb2",
        "outputId": "489db795-ccbb-4708-a17d-ec618e5c88cb"
      },
      "execution_count": 78,
      "outputs": [
        {
          "output_type": "stream",
          "name": "stdout",
          "text": [
            "Пример преобразованных данных:\n",
            "       DepTime_Hour  DepTime_Minute  CRSDepTime_Hour  CRSDepTime_Minute  \\\n",
            "0              21.0            11.0             20.0               55.0   \n",
            "1              14.0            26.0             14.0               10.0   \n",
            "2              11.0            43.0             11.0               45.0   \n",
            "3              11.0            41.0             11.0               44.0   \n",
            "4               8.0            15.0              8.0               20.0   \n",
            "...             ...             ...              ...                ...   \n",
            "69994           9.0            20.0              9.0               25.0   \n",
            "69995          18.0            29.0             18.0               40.0   \n",
            "69996          11.0            49.0             11.0               25.0   \n",
            "69998          19.0             6.0             19.0                0.0   \n",
            "69999           8.0            59.0              9.0                0.0   \n",
            "\n",
            "       ArrTime_Hour  ArrTime_Minute  CRSArrTime_Hour  CRSArrTime_Minute  \n",
            "0              23.0             8.0             23.0                0.0  \n",
            "1              17.0            30.0             17.0               28.0  \n",
            "2              15.0             1.0             15.0               20.0  \n",
            "3              13.0            23.0             13.0               35.0  \n",
            "4              12.0            43.0             13.0                0.0  \n",
            "...             ...             ...              ...                ...  \n",
            "69994          11.0            10.0             11.0               18.0  \n",
            "69995          21.0            37.0             21.0               49.0  \n",
            "69996          13.0            36.0             13.0               14.0  \n",
            "69998          22.0             0.0             21.0               39.0  \n",
            "69999           9.0            59.0             10.0                5.0  \n",
            "\n",
            "[63404 rows x 8 columns]\n"
          ]
        }
      ]
    },
    {
      "cell_type": "markdown",
      "metadata": {
        "id": "CxWfvbQXn4QT"
      },
      "source": [
        "**14. (0.5 балла)** Некоторые из признаков, отличных от целевой переменной, могут оказывать чересчур значимое влияние на прогноз, поскольку по своему смыслу содержат большую долю информации о значении целевой переменной. Изучите описание датасета и исключите признаки, сильно коррелирующие с ответами. Ваш выбор признаков для исключения из выборки обоснуйте. Кроме того, исключите признаки TailNum и Year."
      ]
    },
    {
      "cell_type": "code",
      "source": [
        "# Исключаем признаки, которые сильно коррелируют с целевой переменной или содержат избыточную информацию\n",
        "\n",
        "# 1. Причины задержек - напрямую связаны с DepDelay\n",
        "delay_reasons = ['CarrierDelay', 'WeatherDelay', 'NASDelay', 'SecurityDelay', 'LateAircraftDelay']\n",
        "\n",
        "# 2. Время прибытия - может косвенно содержать информацию о задержке вылета\n",
        "arrival_times = ['ArrTime_Hour', 'ArrTime_Minute', 'CRSArrTime_Hour', 'CRSArrTime_Minute']\n",
        "\n",
        "# 3. Другие технические признаки\n",
        "other_exclude = ['TailNum', 'Year', 'ActualElapsedTime', 'CRSElapsedTime', 'ArrDelay']\n",
        "\n",
        "# Все признаки для исключения\n",
        "exclude_features = delay_reasons + arrival_times + other_exclude\n",
        "\n",
        "# Оставляем только те, которые есть в X\n",
        "exclude_features = [f for f in exclude_features if f in X.columns]\n",
        "\n",
        "print(f\"Исключаем признаки: {exclude_features}\")\n",
        "X = X.drop(exclude_features, axis=1)\n",
        "print(f\"Новая форма X: {X.shape}\")"
      ],
      "metadata": {
        "colab": {
          "base_uri": "https://localhost:8080/"
        },
        "id": "wUX-K2eKMYJP",
        "outputId": "e3ce992d-d90e-4453-cd54-3d01d68ac28b"
      },
      "execution_count": 79,
      "outputs": [
        {
          "output_type": "stream",
          "name": "stdout",
          "text": [
            "Исключаем признаки: ['CarrierDelay', 'WeatherDelay', 'NASDelay', 'SecurityDelay', 'LateAircraftDelay', 'ArrTime_Hour', 'ArrTime_Minute', 'CRSArrTime_Hour', 'CRSArrTime_Minute', 'TailNum', 'Year', 'ActualElapsedTime', 'CRSElapsedTime', 'ArrDelay']\n",
            "Новая форма X: (63404, 18)\n"
          ]
        }
      ]
    },
    {
      "cell_type": "markdown",
      "source": [
        "Обоснование исключения:\n",
        "Причины задержек (CarrierDelay, WeatherDelay и др.) - напрямую объясняют задержку, это утечка данных\n",
        "\n",
        "Время прибытия - содержит информацию о задержке вылета через фактическое время полета\n",
        "\n",
        "TailNum - номер самолета, слишком специфичный признак\n",
        "\n",
        "Year - все данные за 2008 год, константа\n",
        "\n",
        "ActualElapsedTime/CRSElapsedTime - содержат информацию о времени полета\n",
        "\n",
        "ArrDelay - задержка прибытия, сильно коррелирует с DepDelayм"
      ],
      "metadata": {
        "id": "QZm4dCzqMdKf"
      }
    },
    {
      "cell_type": "markdown",
      "metadata": {
        "id": "31XZLNv9oR5Z"
      },
      "source": [
        "**15. (1 балл)** Приведем данные к виду, пригодному для обучения линейных моделей. Для этого вещественные признаки надо отмасштабировать, а категориальные — привести к числовому виду. Также надо устранить пропуски в данных. В первую очередь поймем, зачем необходимо применять масштабирование. Следующие ячейки с кодом построят гистограммы для 3 вещественных признаков выборки."
      ]
    },
    {
      "cell_type": "code",
      "source": [
        "X['DepTime_Hour'].hist(bins=20)"
      ],
      "metadata": {
        "colab": {
          "base_uri": "https://localhost:8080/",
          "height": 448
        },
        "id": "2iPlME5MMmcX",
        "outputId": "c47a697d-47f5-4439-a229-6222c15729e6"
      },
      "execution_count": 80,
      "outputs": [
        {
          "output_type": "execute_result",
          "data": {
            "text/plain": [
              "<Axes: >"
            ]
          },
          "metadata": {},
          "execution_count": 80
        },
        {
          "output_type": "display_data",
          "data": {
            "text/plain": [
              "<Figure size 640x480 with 1 Axes>"
            ],
            "image/png": "[encoded data removed]"
          },
          "metadata": {}
        }
      ]
    },
    {
      "cell_type": "code",
      "source": [
        "X['TaxiIn'].hist(bins=20)"
      ],
      "metadata": {
        "colab": {
          "base_uri": "https://localhost:8080/",
          "height": 448
        },
        "id": "96yCq--JMqqy",
        "outputId": "69064000-899e-407a-9b5d-0c7bc68ae862"
      },
      "execution_count": 81,
      "outputs": [
        {
          "output_type": "execute_result",
          "data": {
            "text/plain": [
              "<Axes: >"
            ]
          },
          "metadata": {},
          "execution_count": 81
        },
        {
          "output_type": "display_data",
          "data": {
            "text/plain": [
              "<Figure size 640x480 with 1 Axes>"
            ],
            "image/png": "[encoded data removed]"
          },
          "metadata": {}
        }
      ]
    },
    {
      "cell_type": "code",
      "source": [
        "X['FlightNum'].hist(bins=20)"
      ],
      "metadata": {
        "colab": {
          "base_uri": "https://localhost:8080/",
          "height": 448
        },
        "id": "naq59dsCMuho",
        "outputId": "cbcbece6-fb82-47ad-a5c8-15bfe5260d15"
      },
      "execution_count": 82,
      "outputs": [
        {
          "output_type": "execute_result",
          "data": {
            "text/plain": [
              "<Axes: >"
            ]
          },
          "metadata": {},
          "execution_count": 82
        },
        {
          "output_type": "display_data",
          "data": {
            "text/plain": [
              "<Figure size 640x480 with 1 Axes>"
            ],
            "image/png": "[encoded data removed]"
          },
          "metadata": {}
        }
      ]
    },
    {
      "cell_type": "markdown",
      "metadata": {
        "id": "Qr3hdgE3tAsV"
      },
      "source": [
        "Некоторые из признаков в нашем датасете являются категориальными. Типичным подходом к работе с ними является бинарное, или [one-hot-кодирование](https://en.wikipedia.org/wiki/One-hot).\n",
        "\n",
        "Реализуйте функцию transform_data, которая принимает на вход DataFrame с признаками и выполняет следующие шаги:\n",
        "1. Замена пропущенных значений на нули для вещественных признаков и на строки 'nan' для категориальных.\n",
        "2. Масштабирование вещественных признаков с помощью [StandardScaler](http://scikit-learn.org/stable/modules/generated/sklearn.preprocessing.StandardScaler.html).\n",
        "3. One-hot-кодирование категориальных признаков с помощью [DictVectorizer](http://scikit-learn.org/stable/modules/generated/sklearn.feature_extraction.DictVectorizer.html) или функции [pd.get_dummies](http://pandas.pydata.org/pandas-docs/stable/generated/pandas.get_dummies.html).\n",
        "\n",
        "Метод должен возвращать преобразованный DataFrame, который должна состоять из масштабированных вещественных признаков и закодированных категориальных (исходные признаки должны быть исключены из выборки)."
      ]
    },
    {
      "cell_type": "code",
      "source": [
        "def transform_data(data):\n",
        "    # 1. Замена пропусков\n",
        "    for col in data.columns:\n",
        "        if data[col].dtype in ['float64', 'int64']:\n",
        "            data[col] = data[col].fillna(0)\n",
        "        else:\n",
        "            data[col] = data[col].fillna('nan')\n",
        "\n",
        "    # 2. Разделение на вещественные и категориальные\n",
        "    numeric_cols = data.select_dtypes(include=['float64', 'int64']).columns\n",
        "    categorical_cols = data.select_dtypes(include=['object']).columns\n",
        "\n",
        "    # 3. Масштабирование вещественных\n",
        "    from sklearn.preprocessing import StandardScaler\n",
        "    scaler = StandardScaler()\n",
        "    numeric_data = scaler.fit_transform(data[numeric_cols])\n",
        "    numeric_df = pd.DataFrame(numeric_data, columns=numeric_cols, index=data.index)\n",
        "\n",
        "    # 4. One-hot кодирование категориальных\n",
        "    if len(categorical_cols) > 0:\n",
        "        categorical_df = pd.get_dummies(data[categorical_cols], prefix=categorical_cols)\n",
        "\n",
        "        # Объединяем\n",
        "        result = pd.concat([numeric_df, categorical_df], axis=1)\n",
        "    else:\n",
        "        result = numeric_df\n",
        "\n",
        "    print(f\"Преобразовано: {result.shape[1]} признаков\")\n",
        "    return result\n",
        "\n",
        "# Тестируем функцию\n",
        "X_transformed = transform_data(X)\n",
        "print(f\"Исходная форма: {X.shape}\")\n",
        "print(f\"Преобразованная форма: {X_transformed.shape}\")"
      ],
      "metadata": {
        "id": "E1WvqxHDMyYe",
        "colab": {
          "base_uri": "https://localhost:8080/"
        },
        "outputId": "702fb497-9267-4677-c84c-608c8def5ef6"
      },
      "execution_count": 83,
      "outputs": [
        {
          "output_type": "stream",
          "name": "stdout",
          "text": [
            "Преобразовано: 631 признаков\n",
            "Исходная форма: (63404, 18)\n",
            "Преобразованная форма: (63404, 631)\n"
          ]
        }
      ]
    },
    {
      "cell_type": "markdown",
      "metadata": {
        "id": "vX3PnZsBvMSp"
      },
      "source": [
        "Примените функцию transform_data к данным. Сколько признаков получилось после преобразования?"
      ]
    },
    {
      "cell_type": "code",
      "source": [
        "# Применяем функцию преобразования\n",
        "X_transformed = transform_data(X)\n",
        "\n",
        "print(f\"Исходное количество признаков: {X.shape[1]}\")\n",
        "print(f\"После преобразования: {X_transformed.shape[1]} признаков\")"
      ],
      "metadata": {
        "colab": {
          "base_uri": "https://localhost:8080/"
        },
        "id": "7yqQXuhoNAKe",
        "outputId": "a2435d93-8154-4f8c-fa44-d2b7ad78ec2c"
      },
      "execution_count": 84,
      "outputs": [
        {
          "output_type": "stream",
          "name": "stdout",
          "text": [
            "Преобразовано: 631 признаков\n",
            "Исходное количество признаков: 18\n",
            "После преобразования: 631 признаков\n"
          ]
        }
      ]
    },
    {
      "cell_type": "code",
      "source": [
        "# Покажем пример преобразованных данных\n",
        "print(\"\\nПример преобразованных данных:\")\n",
        "print(X_transformed.head())"
      ],
      "metadata": {
        "colab": {
          "base_uri": "https://localhost:8080/"
        },
        "id": "N9-Vlb_3NEOF",
        "outputId": "63cd00a3-cb4c-4525-99a4-9e2c984aeb12"
      },
      "execution_count": 85,
      "outputs": [
        {
          "output_type": "stream",
          "name": "stdout",
          "text": [
            "\n",
            "Пример преобразованных данных:\n",
            "      Month  DayofMonth  DayOfWeek  FlightNum   AirTime  Distance    TaxiIn  \\\n",
            "0 -0.118281    0.256485  -0.462767  -0.991600 -0.849307 -0.744130 -0.786908   \n",
            "1 -0.118281   -1.332050  -0.462767   0.106546  0.064301  0.183961 -0.582387   \n",
            "2  0.467662   -1.445517   1.541454  -0.207284  0.314806  0.471018 -0.582387   \n",
            "3 -1.583137    0.823819  -0.462767   0.836931 -0.363032 -0.347886 -0.582387   \n",
            "4 -0.411252   -1.332050   1.541454  -0.910960  0.476898  0.634799 -0.582387   \n",
            "\n",
            "    TaxiOut  Cancelled  Diverted  ...  Dest_VPS  Dest_WRG  Dest_WYS  Dest_XNA  \\\n",
            "0 -0.741204  -0.013759 -0.049021  ...     False     False     False     False   \n",
            "1 -0.389769  -0.013759 -0.049021  ...     False     False     False     False   \n",
            "2 -0.653345  -0.013759 -0.049021  ...     False     False     False     False   \n",
            "3  0.225242  -0.013759 -0.049021  ...     False     False     False     False   \n",
            "4 -0.741204  -0.013759 -0.049021  ...     False     False     False     False   \n",
            "\n",
            "   Dest_YAK  Dest_YKM  Dest_YUM  CancellationCode_A  CancellationCode_B  \\\n",
            "0     False     False     False               False               False   \n",
            "1     False     False     False               False               False   \n",
            "2     False     False     False               False               False   \n",
            "3     False     False     False               False               False   \n",
            "4     False     False     False               False               False   \n",
            "\n",
            "   CancellationCode_nan  \n",
            "0                  True  \n",
            "1                  True  \n",
            "2                  True  \n",
            "3                  True  \n",
            "4                  True  \n",
            "\n",
            "[5 rows x 631 columns]\n"
          ]
        }
      ]
    },
    {
      "cell_type": "code",
      "source": [
        "# Посмотрим на типы признаков после преобразования\n",
        "print(\"\\nТипы признаков после преобразования:\")\n",
        "print(X_transformed.dtypes.value_counts())"
      ],
      "metadata": {
        "colab": {
          "base_uri": "https://localhost:8080/"
        },
        "id": "XyFFnmWUNMnk",
        "outputId": "ec2bfd69-7892-4ec8-874e-1a8c39226caf"
      },
      "execution_count": 86,
      "outputs": [
        {
          "output_type": "stream",
          "name": "stdout",
          "text": [
            "\n",
            "Типы признаков после преобразования:\n",
            "bool       617\n",
            "float64     14\n",
            "Name: count, dtype: int64\n"
          ]
        }
      ]
    },
    {
      "cell_type": "markdown",
      "metadata": {
        "id": "UlVh6mktw-iy"
      },
      "source": [
        "**16. (0.5 балла)** Разбейте выборку и вектор целевой переменной на обучение и контроль в отношении 70/30 (для этого можно использовать, например, функцию [train_test_split](http://scikit-learn.org/stable/modules/generated/sklearn.cross_validation.train_test_split.html))."
      ]
    },
    {
      "cell_type": "code",
      "source": [
        "from sklearn.model_selection import train_test_split\n",
        "\n",
        "# Разбиваем на обучение и контроль\n",
        "X_train, X_test, y_train, y_test = train_test_split(\n",
        "    X_transformed, y,\n",
        "    test_size=0.3,\n",
        "    random_state=42\n",
        ")\n",
        "\n",
        "print(f\"Обучающая выборка: {X_train.shape[0]} объектов\")\n",
        "print(f\"Контрольная выборка: {X_test.shape[0]} объектов\")\n",
        "print(f\"Признаков: {X_train.shape[1]}\")"
      ],
      "metadata": {
        "colab": {
          "base_uri": "https://localhost:8080/"
        },
        "id": "ll4An5XhNQiV",
        "outputId": "79556039-3d62-4ea9-c3e1-bece2f106781"
      },
      "execution_count": 87,
      "outputs": [
        {
          "output_type": "stream",
          "name": "stdout",
          "text": [
            "Обучающая выборка: 44382 объектов\n",
            "Контрольная выборка: 19022 объектов\n",
            "Признаков: 631\n"
          ]
        }
      ]
    },
    {
      "cell_type": "code",
      "source": [
        "# Проверяем размеры\n",
        "print(\"Размеры данных:\")\n",
        "print(f\"X_train: {X_train.shape}\")\n",
        "print(f\"X_test: {X_test.shape}\")\n",
        "print(f\"y_train: {y_train.shape}\")\n",
        "print(f\"y_test: {y_test.shape}\")"
      ],
      "metadata": {
        "colab": {
          "base_uri": "https://localhost:8080/"
        },
        "id": "REPWjtBUNSr1",
        "outputId": "a9bf8200-4099-4651-e12f-1e0ca0033c3a"
      },
      "execution_count": 88,
      "outputs": [
        {
          "output_type": "stream",
          "name": "stdout",
          "text": [
            "Размеры данных:\n",
            "X_train: (44382, 631)\n",
            "X_test: (19022, 631)\n",
            "y_train: (44382,)\n",
            "y_test: (19022,)\n"
          ]
        }
      ]
    },
    {
      "cell_type": "markdown",
      "metadata": {
        "id": "XD5Hf5XLw7D1"
      },
      "source": [
        "### Scikit-learn\n",
        "\n",
        "<img src = \"https://pp.vk.me/c4534/u35727827/93547647/x_d31c4463.jpg\">\n",
        "Теперь, когда мы привели данные к пригодному виду, попробуем решить задачу при помощи метода наименьших квадратов. Напомним, что данный метод заключается в оптимизации функционала $MSE$:\n",
        "\n",
        "$$MSE(X, y) = \\frac{1}{l} \\sum_{i=1}^l (<w, x_i> - y_i)^2 \\to \\min_{w},$$\n",
        "\n",
        "где $\\{ (x_i, y_i ) \\}_{i=1}^l$ — обучающая выборка, состоящая из $l$ пар объект-ответ.\n",
        "\n",
        "Заметим, что решение данной задачи уже реализовано в модуле sklearn в виде класса [LinearRegression](http://scikit-learn.org/stable/modules/generated/sklearn.linear_model.LinearRegression.html#sklearn.linear_model.LinearRegression).\n",
        "\n"
      ]
    },
    {
      "cell_type": "markdown",
      "metadata": {
        "id": "K5n4RpMczxvT"
      },
      "source": [
        "\n",
        "**17. (0.5 балла)** Обучите линейную регрессию на 1000 объектах из обучающей выборки и выведите значения $MSE$ и $R^2$ на этой подвыборке и контрольной выборке (итого 4 различных числа). Проинтерпретируйте полученный результат — насколько качественные прогнозы строит полученная модель? Какие проблемы наблюдаются в модели?\n",
        "\n",
        "**Подсказка**: изучите значения полученных коэффициентов $w$, сохраненных в атрибуте coef_ объекта LinearRegression."
      ]
    },
    {
      "cell_type": "code",
      "source": [
        "from sklearn.linear_model import LinearRegression\n",
        "from sklearn.metrics import mean_squared_error, r2_score\n",
        "\n",
        "# Обучаем на 1000 объектах\n",
        "model = LinearRegression()\n",
        "model.fit(X_train[:1000], y_train[:1000])\n",
        "\n",
        "# Предсказания и метрики\n",
        "train_pred = model.predict(X_train[:1000])\n",
        "test_pred = model.predict(X_test)\n",
        "\n",
        "print(\"На 1000 объектах:\")\n",
        "print(f\"Обучение - MSE: {mean_squared_error(y_train[:1000], train_pred):.0f}\")\n",
        "print(f\"Обучение - R²: {r2_score(y_train[:1000], train_pred):.3f}\")\n",
        "print(f\"Контроль - MSE: {mean_squared_error(y_test, test_pred):.0f}\")\n",
        "print(f\"Контроль - R²: {r2_score(y_test, test_pred):.3f}\")"
      ],
      "metadata": {
        "colab": {
          "base_uri": "https://localhost:8080/"
        },
        "id": "gEGeXrzoNXmd",
        "outputId": "da60d030-a0d2-4934-ae23-531ba128b56d"
      },
      "execution_count": 89,
      "outputs": [
        {
          "output_type": "stream",
          "name": "stdout",
          "text": [
            "На 1000 объектах:\n",
            "Обучение - MSE: 641\n",
            "Обучение - R²: 0.395\n",
            "Контроль - MSE: 1502\n",
            "Контроль - R²: -0.123\n"
          ]
        }
      ]
    },
    {
      "cell_type": "code",
      "source": [
        "# Коэффициенты\n",
        "coef = pd.DataFrame({'feature': X_train.columns, 'coef': model.coef_})\n",
        "print(\"\\nТоп-5 признаков:\")\n",
        "print(coef.sort_values('coef', key=abs).tail(5))"
      ],
      "metadata": {
        "colab": {
          "base_uri": "https://localhost:8080/"
        },
        "id": "Xr4VyKE4Na7N",
        "outputId": "d2758990-3fcc-4b93-8e6d-5b3c4f426c54"
      },
      "execution_count": 90,
      "outputs": [
        {
          "output_type": "stream",
          "name": "stdout",
          "text": [
            "\n",
            "Топ-5 признаков:\n",
            "        feature        coef\n",
            "330    Dest_ABE   90.170251\n",
            "91   Origin_CID  102.701881\n",
            "579    Dest_SBA  108.670746\n",
            "309  Origin_SWF  116.740097\n",
            "35   Origin_ABI  138.242817\n"
          ]
        }
      ]
    },
    {
      "cell_type": "markdown",
      "source": [
        "R² близко к 0 - модель плохо объясняет дисперсию данных\n",
        "\n",
        "Большой MSE - большие ошибки предсказания\n",
        "\n",
        "Коэффициенты могут быть очень большими - признаки сильно коррелируют (мультиколлинеарность)\n",
        "\n",
        "Проблемы: нехватка данных, сложные зависимости, выбросы"
      ],
      "metadata": {
        "id": "3a0YJwIYwGBq"
      }
    },
    {
      "cell_type": "markdown",
      "metadata": {
        "id": "E6ZSDsjA0uM-"
      },
      "source": [
        "Для решения описанных вами в предыдущем пункте проблем используем L1- или L2-регуляризацию, тем самым получив Lasso и Ridge регрессии соответственно и изменив оптимизационную задачу одним из следующих образов:\n",
        "$$MSE_{L1}(X, y) = \\frac{1}{l} \\sum_{i=1}^l (<w, x_i> - y_i)^2 + \\alpha ||w||_1 \\to \\min_{w},$$\n",
        "$$MSE_{L2}(X, y) = \\frac{1}{l} \\sum_{i=1}^l (<w, x_i> - y_i)^2 + \\alpha ||w||_2^2 \\to \\min_{w},$$\n",
        "\n",
        "где $\\alpha$ — коэффициент регуляризации. Один из способов его подбора заключается в переборе некоторого количества значений и оценке качества на кросс-валидации для каждого из них, после чего выбирается значение, для которого было получено наилучшее качество."
      ]
    },
    {
      "cell_type": "code",
      "source": [
        "from sklearn.linear_model import Lasso, Ridge\n",
        "from sklearn.model_selection import cross_val_score\n",
        "\n",
        "# Параметры\n",
        "alphas = [0.001, 0.01, 0.1, 1, 10, 100]\n",
        "\n",
        "# Lasso\n",
        "print(\"Lasso:\")\n",
        "for a in alphas:\n",
        "    score = cross_val_score(Lasso(alpha=a), X_train[:1000], y_train[:1000], cv=3, scoring='r2').mean()\n",
        "    print(f\"alpha={a}: R²={score:.3f}\")"
      ],
      "metadata": {
        "colab": {
          "base_uri": "https://localhost:8080/"
        },
        "id": "FT1v_hdZNfi0",
        "outputId": "40fcc3d9-f52b-4818-f6a0-345ee3a34549"
      },
      "execution_count": 91,
      "outputs": [
        {
          "output_type": "stream",
          "name": "stdout",
          "text": [
            "Lasso:\n",
            "alpha=0.001: R²=-0.675\n",
            "alpha=0.01: R²=-0.534\n",
            "alpha=0.1: R²=-0.195\n",
            "alpha=1: R²=0.041\n",
            "alpha=10: R²=-0.008\n",
            "alpha=100: R²=-0.008\n"
          ]
        }
      ]
    },
    {
      "cell_type": "code",
      "source": [
        "# Ridge\n",
        "print(\"Ridge:\")\n",
        "for a in alphas:\n",
        "    score = cross_val_score(Ridge(alpha=a), X_train[:1000], y_train[:1000], cv=3, scoring='r2').mean()\n",
        "    print(f\"alpha={a}: R²={score:.3f}\")"
      ],
      "metadata": {
        "colab": {
          "base_uri": "https://localhost:8080/"
        },
        "id": "SasO0eVMNik9",
        "outputId": "f6f38a02-1760-4fcb-f3ec-8f923c2951df"
      },
      "execution_count": 92,
      "outputs": [
        {
          "output_type": "stream",
          "name": "stdout",
          "text": [
            "Ridge:\n",
            "alpha=0.001: R²=-0.696\n",
            "alpha=0.01: R²=-0.683\n",
            "alpha=0.1: R²=-0.581\n",
            "alpha=1: R²=-0.285\n",
            "alpha=10: R²=-0.022\n",
            "alpha=100: R²=0.041\n"
          ]
        }
      ]
    },
    {
      "cell_type": "markdown",
      "metadata": {
        "id": "STHtmTWh1Acz"
      },
      "source": [
        "__18. (1 балл) __ Обучение линейной регрессии.\n",
        "\n",
        "\n",
        "\n",
        "Обучите линейную регрессию с $L_1$ (Lasso) и $L_2$ (Ridge) регуляризаторами (используйте параметры по умолчанию). Посмотрите, какое количество коэффициентов близко к 0 (степень близости к 0 определите сами из разумных пределов). Постройте график зависимости числа ненулевых коэффициентов от коэффицента регуляризации (перебирайте значения по логарифмической сетке от $10^{-3}$ до $10^3$). Согласуются ли результаты с вашими ожиданиями?"
      ]
    },
    {
      "cell_type": "code",
      "source": [
        "import matplotlib.pyplot as plt\n",
        "\n",
        "# Перебираем alpha\n",
        "alphas = np.logspace(-3, 3, 20)\n",
        "non_zero_counts = []\n",
        "\n",
        "for alpha in alphas:\n",
        "    lasso = Lasso(alpha=alpha)\n",
        "    lasso.fit(X_train[:1000], y_train[:1000])\n",
        "\n",
        "    # Считаем ненулевые коэффициенты (|coef| > 0.001)\n",
        "    non_zero = np.sum(np.abs(lasso.coef_) > 0.001)\n",
        "    non_zero_counts.append(non_zero)\n",
        "\n",
        "# График\n",
        "plt.figure(figsize=(10, 6))\n",
        "plt.plot(alphas, non_zero_counts, 'bo-')\n",
        "plt.xscale('log')\n",
        "plt.xlabel('Alpha')\n",
        "plt.ylabel('Ненулевые коэффициенты')\n",
        "plt.title('Lasso: ненулевые коэффициенты vs alpha')\n",
        "plt.grid(True)\n",
        "plt.show()"
      ],
      "metadata": {
        "colab": {
          "base_uri": "https://localhost:8080/",
          "height": 480
        },
        "id": "vZuZwx44Nl81",
        "outputId": "ca988701-cec5-4fa1-9ef2-3da455766e6c"
      },
      "execution_count": 93,
      "outputs": [
        {
          "output_type": "display_data",
          "data": {
            "text/plain": [
              "<Figure size 1000x600 with 1 Axes>"
            ],
            "image/png": "[encoded data removed]"
          },
          "metadata": {}
        }
      ]
    },
    {
      "cell_type": "markdown",
      "source": [
        "На графике изображена зависимость количества ненулевых коэффициентов от силы регуляризации в Lasso-регрессии.\n",
        "\n",
        "Что конкретно показано:\n",
        "\n",
        "Ось X: коэффициент регуляризации alpha (в логарифмическом масштабе)\n",
        "\n",
        "От 0.001 (слабая регуляризация) до 1000 (сильная регуляризация)\n",
        "Ось Y: количество ненулевых коэффициентов\n",
        "\n",
        "Признаки, которые модель считает важными (|coef| > 0.001)\n",
        "Как интерпретировать график:\n",
        "\n",
        "Слева (маленькие alpha ≈ 0.001):\n",
        "\n",
        "Слабая регуляризация\n",
        "Почти ВСЕ признаки остаются в модели\n",
        "Много ненулевых коэффициентов\n",
        "Справа (большие alpha ≈ 1000):\n",
        "\n",
        "Сильная регуляризация\n",
        "Lasso обнуляет почти ВСЕ коэффициенты\n",
        "Остаются только самые важные признаки\n",
        "Посередине:\n",
        "\n",
        "Постепенное уменьшение числа признаков\n",
        "Lasso отбирает только значимые признаки\n",
        "Особенность Lasso: он выполняет отбор признаков - обнуляет слабые коэффициенты. Чем больше alpha, тем меньше признаков остается в модели.\n",
        "\n",
        "График обычно показывает монотонное убывание - с ростом alpha число ненулевых коэффициентов уменьшается."
      ],
      "metadata": {
        "id": "junXHDZ-Ns3N"
      }
    },
    {
      "cell_type": "code",
      "source": [
        "# Сравним Lasso и Ridge при alpha=1\n",
        "lasso = Lasso(alpha=1).fit(X_train[:1000], y_train[:1000])\n",
        "ridge = Ridge(alpha=1).fit(X_train[:1000], y_train[:1000])\n",
        "\n",
        "print(f\"Lasso - ненулевых коэффициентов: {np.sum(np.abs(lasso.coef_) > 0.001)}\")\n",
        "print(f\"Ridge - ненулевых коэффициентов: {np.sum(np.abs(ridge.coef_) > 0.001)}\")"
      ],
      "metadata": {
        "colab": {
          "base_uri": "https://localhost:8080/"
        },
        "id": "06kplN7cNxJW",
        "outputId": "4e7b2524-552a-48f1-849c-c1e9f9160e5d"
      },
      "execution_count": null,
      "outputs": [
        {
          "output_type": "stream",
          "name": "stdout",
          "text": [
            "Lasso - ненулевых коэффициентов: 4\n",
            "Ridge - ненулевых коэффициентов: 347\n"
          ]
        }
      ]
    },
    {
      "cell_type": "markdown",
      "source": [
        "Lasso обнуляет слабые признаки (меньше ненулевых коэффициентов)\n",
        "\n",
        "Ridge только уменьшает коэффициенты (все признаки остаются)\n",
        "\n",
        "С ростом alpha ненулевых коэффициентов становится меньше"
      ],
      "metadata": {
        "id": "9XEGrmvmN0Qd"
      }
    },
    {
      "cell_type": "markdown",
      "metadata": {
        "id": "HIPpLr-q1CGF"
      },
      "source": [
        "Посчитайте для Ridge-регрессии следующие метрики: $RMSE$, $MAE$, $R^2$."
      ]
    },
    {
      "cell_type": "code",
      "source": [
        "from sklearn.metrics import mean_squared_error, mean_absolute_error, r2_score\n",
        "\n",
        "# Обучаем Ridge\n",
        "ridge = Ridge(alpha=1)\n",
        "ridge.fit(X_train[:1000], y_train[:1000])\n",
        "\n",
        "# Предсказания\n",
        "y_pred = ridge.predict(X_test)\n",
        "\n",
        "# Метрики\n",
        "rmse = np.sqrt(mean_squared_error(y_test, y_pred))\n",
        "mae = mean_absolute_error(y_test, y_pred)\n",
        "r2 = r2_score(y_test, y_pred)\n",
        "\n",
        "print(\"Ridge метрики:\")\n",
        "print(f\"RMSE: {rmse:.1f}\")\n",
        "print(f\"MAE: {mae:.1f}\")\n",
        "print(f\"R²: {r2:.3f}\")"
      ],
      "metadata": {
        "colab": {
          "base_uri": "https://localhost:8080/"
        },
        "id": "Yibv2gQGN3qX",
        "outputId": "5d7fc012-7bb5-4ee0-fac8-dd2c41e975d8"
      },
      "execution_count": null,
      "outputs": [
        {
          "output_type": "stream",
          "name": "stdout",
          "text": [
            "Ridge метрики:\n",
            "RMSE: 36.9\n",
            "MAE: 20.4\n",
            "R²: -0.019\n"
          ]
        }
      ]
    },
    {
      "cell_type": "markdown",
      "source": [
        "Результат:\n",
        "RMSE - средняя ошибка в минутах\n",
        "\n",
        "MAE - средняя абсолютная ошибка\n",
        "\n",
        "R² - насколько хорошо модель объясняет данные"
      ],
      "metadata": {
        "id": "IEFJMWP8N8f1"
      }
    },
    {
      "cell_type": "markdown",
      "metadata": {
        "id": "yUSDESse1HW6"
      },
      "source": [
        "Подберите на обучающей выборке для Ridge-регрессии коэффициент регуляризации (перебирайте значения по логарифмической сетке от $10^{-3}$ до $10^3$) для каждой из метрик при помощи кросс-валидации c 5 фолдами на тех же 1000 объектах. Для этого воспользуйтесь GridSearchCV и KFold из sklearn. Постройте графики зависимости фукнции потерь от коэффициента регуляризации. Посчитайте те же метрики снова. Заметно ли изменилось качество?\n",
        "\n",
        "Для выполнения данного задания вам могут понадобиться реализованные в библиотеке объекты [LassoCV](http://scikit-learn.org/stable/modules/generated/sklearn.linear_model.LassoCV.html), [RidgeCV](http://scikit-learn.org/stable/modules/generated/sklearn.linear_model.RidgeCV.html) и [KFold](http://scikit-learn.org/stable/modules/generated/sklearn.cross_validation.KFold.html)."
      ]
    },
    {
      "cell_type": "code",
      "execution_count": null,
      "metadata": {
        "id": "NJxV6uTP1MGe",
        "colab": {
          "base_uri": "https://localhost:8080/"
        },
        "outputId": "96131d55-0d9a-466f-d86b-ccc802d4f506"
      },
      "outputs": [
        {
          "output_type": "stream",
          "name": "stdout",
          "text": [
            "Лучший alpha: 112.884\n"
          ]
        }
      ],
      "source": [
        "from sklearn.model_selection import GridSearchCV, KFold\n",
        "from sklearn.linear_model import Ridge\n",
        "\n",
        "# Параметры для перебора\n",
        "alphas = np.logspace(-3, 3, 20)\n",
        "param_grid = {'alpha': alphas}\n",
        "\n",
        "# Кросс-валидация\n",
        "kf = KFold(n_splits=5, shuffle=True, random_state=42)\n",
        "grid = GridSearchCV(Ridge(), param_grid, cv=kf, scoring='neg_mean_squared_error')\n",
        "grid.fit(X_train[:1000], y_train[:1000])\n",
        "\n",
        "# Лучший параметр\n",
        "print(f\"Лучший alpha: {grid.best_params_['alpha']:.3f}\")"
      ]
    },
    {
      "cell_type": "code",
      "source": [
        "# График зависимости MSE от alpha\n",
        "results = grid.cv_results_\n",
        "plt.figure(figsize=(10, 6))\n",
        "plt.plot(alphas, -results['mean_test_score'], 'bo-')\n",
        "plt.xscale('log')\n",
        "plt.xlabel('Alpha')\n",
        "plt.ylabel('MSE')\n",
        "plt.title('Ridge: MSE vs Alpha')\n",
        "plt.grid(True)\n",
        "plt.show()"
      ],
      "metadata": {
        "colab": {
          "base_uri": "https://localhost:8080/",
          "height": 569
        },
        "id": "0-Y8Vr0wOH11",
        "outputId": "17d4adaf-ed40-4db8-bbc1-3d72166a95c5"
      },
      "execution_count": null,
      "outputs": [
        {
          "output_type": "display_data",
          "data": {
            "text/plain": [
              "<Figure size 1000x600 with 1 Axes>"
            ],
            "image/png": "[encoded data removed]"
          },
          "metadata": {}
        }
      ]
    },
    {
      "cell_type": "markdown",
      "source": [
        "На графике изображена зависимость качества модели Ridge от коэффициента регуляризации alpha.\n",
        "\n",
        "Что конкретно показано:\n",
        "\n",
        "Ось X: коэффициент регуляризации alpha (в логарифмическом масштабе)\n",
        "\n",
        "От 0.001 до 1000\n",
        "Логарифмическая шкала - одинаковое расстояние между 0.001-0.01-0.1-1-10-100\n",
        "Ось Y: значение MSE (Mean Squared Error)\n",
        "\n",
        "Чем МЕНЬШЕ значение - тем ЛУЧШЕ модель\n",
        "Как интерпретировать график:\n",
        "\n",
        "Слева (маленькие alpha ≈ 0.001):\n",
        "\n",
        "Модель почти как обычная линейная регрессия\n",
        "Может переобучаться на шуме в данных\n",
        "MSE обычно выше\n",
        "Справа (большие alpha ≈ 1000):\n",
        "\n",
        "Сильная регуляризация\n",
        "Модель становится слишком простой (недообучение)\n",
        "Коэффициенты близки к нулю\n",
        "MSE увеличивается\n",
        "Оптимальная зона (обычно посередине):\n",
        "\n",
        "Баланс между сложностью и обобщающей способностью\n",
        "Самая низкая точка графика - лучший параметр alpha\n",
        "Форма графика обычно: U-образная кривая, где дно U - оптимальное значение alpha."
      ],
      "metadata": {
        "id": "BW19OV92OLSd"
      }
    },
    {
      "cell_type": "code",
      "source": [
        "# Обучаем Ridge с лучшим alpha\n",
        "best_ridge = Ridge(alpha=grid.best_params_['alpha'])\n",
        "best_ridge.fit(X_train[:1000], y_train[:1000])\n",
        "y_pred_best = best_ridge.predict(X_test)\n",
        "\n",
        "# Метрики\n",
        "rmse = np.sqrt(mean_squared_error(y_test, y_pred_best))\n",
        "mae = mean_absolute_error(y_test, y_pred_best)\n",
        "r2 = r2_score(y_test, y_pred_best)\n",
        "\n",
        "print(\"Метрики Ridge с подобранным alpha:\")\n",
        "print(f\"RMSE: {rmse:.1f} минут\")\n",
        "print(f\"MAE: {mae:.1f} минут\")\n",
        "print(f\"R²: {r2:.3f}\")\n",
        "\n",
        "# Строим графики\n",
        "fig, (ax1, ax2) = plt.subplots(1, 2, figsize=(15, 5))\n",
        "\n",
        "# График 1: Предсказания vs Реальные значения\n",
        "ax1.scatter(y_test, y_pred_best, alpha=0.5)\n",
        "ax1.plot([y_test.min(), y_test.max()], [y_test.min(), y_test.max()], 'r--', lw=2)\n",
        "ax1.set_xlabel('Реальные значения')\n",
        "ax1.set_ylabel('Предсказания')\n",
        "ax1.set_title('Ridge: Предсказания vs Реальные значения')\n",
        "ax1.grid(True)\n",
        "\n",
        "# График 2: Распределение ошибок\n",
        "errors = y_test - y_pred_best\n",
        "ax2.hist(errors, bins=50, edgecolor='black')\n",
        "ax2.set_xlabel('Ошибка предсказания (минуты)')\n",
        "ax2.set_ylabel('Количество')\n",
        "ax2.set_title('Распределение ошибок Ridge')\n",
        "ax2.grid(True)\n",
        "\n",
        "plt.tight_layout()\n",
        "plt.show()"
      ],
      "metadata": {
        "colab": {
          "base_uri": "https://localhost:8080/",
          "height": 440
        },
        "id": "c6pz4UsmORU2",
        "outputId": "93cc802f-5167-45f7-96cf-5aa3ec47c596"
      },
      "execution_count": null,
      "outputs": [
        {
          "output_type": "stream",
          "name": "stdout",
          "text": [
            "Метрики Ridge с подобранным alpha:\n",
            "RMSE: 35.5 минут\n",
            "MAE: 18.4 минут\n",
            "R²: 0.059\n"
          ]
        },
        {
          "output_type": "display_data",
          "data": {
            "text/plain": [
              "<Figure size 1500x500 with 2 Axes>"
            ],
            "image/png": "[encoded data removed]"
          },
          "metadata": {}
        }
      ]
    },
    {
      "cell_type": "markdown",
      "source": [
        "Первый график (слева): \"Предсказания vs Реальные значения\"\n",
        "\n",
        "Точки: каждая точка - один рейс\n",
        "По оси X: реальная задержка вылета (DepDelay)\n",
        "По оси Y: предсказанная задержка моделью\n",
        "Красная пунктирная линия: идеальная линия (если бы предсказания были идеальными)\n",
        "Что показывает:\n",
        "Если точки близко к красной линии - модель предсказывает хорошо\n",
        "Если точки разбросаны далеко - модель ошибается\n",
        "Если точки образуют \"облако\" - модель плохо предсказывает\n",
        "Второй график (справа): \"Распределение ошибок\"\n",
        "\n",
        "Столбцы: показывают сколько рейсов имеют определенную ошибку предсказания\n",
        "По оси X: величина ошибки (реальное значение - предсказание)\n",
        "Отрицательные: модель переоценила задержку\n",
        "Положительные: модель недооценила задержку\n",
        "По оси Y: количество рейсов\n",
        "Что показывает:\n",
        "Если распределение симметрично вокруг 0 - модель в среднем не ошибается\n",
        "Если есть пик около 0 - много точных предсказаний\n",
        "Широкое распределение - большие ошибки\n",
        "Метрики:\n",
        "\n",
        "RMSE: средняя ошибка в минутах (учитывает большие ошибки)\n",
        "MAE: средняя абсолютная ошибка\n",
        "R²: насколько модель лучше константного предсказания"
      ],
      "metadata": {
        "id": "ud5nvWeXOV4H"
      }
    },
    {
      "cell_type": "markdown",
      "source": [
        "__19. (0.5 балла)__ Поиск объектов-выбросов\n",
        "\n",
        "\n",
        "Как известно, MSE сильно штрафует за большие ошибки на объектах-выбросах. С помощью cross_val_predict сделайте Out-of-Fold предсказания для обучающей выборки. Посчитайте ошибки и посмотрите на их распределение (plt.hist). Что вы видите?"
      ],
      "metadata": {
        "id": "OqR2h8niJWxH"
      }
    },
    {
      "cell_type": "code",
      "source": [
        "from sklearn.model_selection import cross_val_predict\n",
        "\n",
        "# Out-of-Fold предсказания\n",
        "oof_predictions = cross_val_predict(Ridge(), X_train[:1000], y_train[:1000], cv=5)\n",
        "\n",
        "# Ошибки\n",
        "oof_errors = y_train[:1000] - oof_predictions\n",
        "\n",
        "# График распределения ошибок\n",
        "plt.figure(figsize=(10, 6))\n",
        "plt.hist(oof_errors, bins=50, edgecolor='black')\n",
        "plt.xlabel('Ошибка предсказания (минуты)')\n",
        "plt.ylabel('Количество')\n",
        "plt.title('Распределение ошибок (Out-of-Fold)')\n",
        "plt.grid(True)\n",
        "plt.show()"
      ],
      "metadata": {
        "colab": {
          "base_uri": "https://localhost:8080/",
          "height": 564
        },
        "id": "7EcFPMyGJYbx",
        "outputId": "8b2b1a9c-434f-464c-9b5a-d61992fa1bf8"
      },
      "execution_count": null,
      "outputs": [
        {
          "output_type": "display_data",
          "data": {
            "text/plain": [
              "<Figure size 1000x600 with 1 Axes>"
            ],
            "image/png": "[encoded data removed]"
          },
          "metadata": {}
        }
      ]
    },
    {
      "cell_type": "markdown",
      "source": [
        "На графике изображено распределение ошибок предсказания модели Ridge регрессии.\n",
        "\n",
        "Что конкретно показано:\n",
        "\n",
        "По оси X: величина ошибки предсказания в минутах\n",
        "\n",
        "Отрицательные значения: модель переоценила задержку (предсказала больше, чем было на самом деле)\n",
        "Положительные значения: модель недооценила задержку (предсказала меньше, чем было)\n",
        "Ноль: идеальное предсказание\n",
        "По оси Y: количество рейсов с данной ошибкой\n",
        "\n",
        "Что можно увидеть на таком графике:\n",
        "\n",
        "Центр распределения - где сосредоточены большинство ошибок\n",
        "Ширину распределения - насколько ошибки разбросаны\n",
        "Выбросы - объекты с очень большими ошибками (далекие от центра)\n",
        "Симметричность - одинаково ли модель ошибается в обе стороны\n",
        "Примеры интерпретации:\n",
        "\n",
        "Если пик около 0 - много точных предсказаний\n",
        "Если длинные \"хвосты\" - есть выбросы с огромными ошибками\n",
        "Если смещение от 0 - систематическая ошибка модели\n",
        "Если широкое распределение - модель неустойчива"
      ],
      "metadata": {
        "id": "AneUjTRbOhH-"
      }
    },
    {
      "cell_type": "code",
      "source": [
        "# Анализ выбросов\n",
        "print(\"Анализ ошибок:\")\n",
        "print(f\"Средняя ошибка: {oof_errors.mean():.1f}\")\n",
        "print(f\"Стандартное отклонение: {oof_errors.std():.1f}\")\n",
        "print(f\"Максимальная ошибка: {oof_errors.max():.1f}\")\n",
        "print(f\"Минимальная ошибка: {oof_errors.min():.1f}\")\n",
        "\n",
        "# Выбросы (ошибки > 3 стандартных отклонений)\n",
        "outliers = np.abs(oof_errors) > 3 * oof_errors.std()\n",
        "print(f\"Количество выбросов: {outliers.sum()}\")"
      ],
      "metadata": {
        "colab": {
          "base_uri": "https://localhost:8080/"
        },
        "id": "B2oi5yYoOiiF",
        "outputId": "51054721-9e89-44c5-e134-b4c4e73e6191"
      },
      "execution_count": null,
      "outputs": [
        {
          "output_type": "stream",
          "name": "stdout",
          "text": [
            "Анализ ошибок:\n",
            "Средняя ошибка: 0.3\n",
            "Стандартное отклонение: 35.0\n",
            "Максимальная ошибка: 296.8\n",
            "Минимальная ошибка: -81.5\n",
            "Количество выбросов: 25\n"
          ]
        }
      ]
    }
  ],
  "metadata": {
    "colab": {
      "provenance": []
    },
    "kernelspec": {
      "display_name": "Python 3",
      "name": "python3"
    },
    "language_info": {
      "name": "python"
    }
  },
  "nbformat": 4,
  "nbformat_minor": 0
}